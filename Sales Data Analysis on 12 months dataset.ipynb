{
 "cells": [
  {
   "cell_type": "markdown",
   "id": "5837a712",
   "metadata": {},
   "source": [
    "# In-Depth Sales Performance Analysis for 12 Months of Sales Dataset"
   ]
  },
  {
   "cell_type": "markdown",
   "id": "77059643",
   "metadata": {},
   "source": [
    "Certainly! Before delving into any analysis in Python, it's crucial to import all the essential libraries. These libraries provide functions and tools necessary for data manipulation, visualization, statistical analysis, and more"
   ]
  },
  {
   "cell_type": "code",
   "execution_count": 1,
   "id": "792a8437",
   "metadata": {},
   "outputs": [],
   "source": [
    "# Importing all the necessary libraries\n",
    "import numpy as np\n",
    "import pandas as pd\n",
    "import matplotlib.pyplot as plt\n",
    "import seaborn as sns\n",
    "import os\n",
    "import glob\n",
    "import datetime\n",
    "from itertools import combinations\n",
    "from collections import Counter\n",
    "\n",
    "%matplotlib inline\n",
    "import warnings\n",
    "warnings.filterwarnings('ignore')"
   ]
  },
  {
   "cell_type": "markdown",
   "id": "39e84120",
   "metadata": {},
   "source": [
    "### Merging 12 Months of Data"
   ]
  },
  {
   "cell_type": "code",
   "execution_count": 2,
   "id": "1b13682c",
   "metadata": {},
   "outputs": [],
   "source": [
    "df = pd.concat(map(pd.read_csv, glob.glob('C:/Users/acer/Desktop/Data_Analytics/PowerBI_Projects/Sales_Dashboard/Sales_Data/*.csv')))"
   ]
  },
  {
   "cell_type": "code",
   "execution_count": 3,
   "id": "93906143",
   "metadata": {},
   "outputs": [
    {
     "data": {
      "text/plain": [
       "(186850, 6)"
      ]
     },
     "execution_count": 3,
     "metadata": {},
     "output_type": "execute_result"
    }
   ],
   "source": [
    "# Shape of the dataset\n",
    "df.shape"
   ]
  },
  {
   "cell_type": "code",
   "execution_count": 4,
   "id": "5e78b36c",
   "metadata": {},
   "outputs": [],
   "source": [
    "df.to_csv(\"C:/Users/acer/Desktop/Data_Analytics/PowerBI_Projects/Sales_Dashboard/dataset.csv\")"
   ]
  },
  {
   "cell_type": "code",
   "execution_count": 5,
   "id": "f8485ac4",
   "metadata": {},
   "outputs": [],
   "source": [
    "# Importing the Merged Dataset\n",
    "df1 = pd.read_csv(\"dataset.csv\")"
   ]
  },
  {
   "cell_type": "code",
   "execution_count": 6,
   "id": "6b07fd3a",
   "metadata": {},
   "outputs": [
    {
     "data": {
      "text/html": [
       "<div>\n",
       "<style scoped>\n",
       "    .dataframe tbody tr th:only-of-type {\n",
       "        vertical-align: middle;\n",
       "    }\n",
       "\n",
       "    .dataframe tbody tr th {\n",
       "        vertical-align: top;\n",
       "    }\n",
       "\n",
       "    .dataframe thead th {\n",
       "        text-align: right;\n",
       "    }\n",
       "</style>\n",
       "<table border=\"1\" class=\"dataframe\">\n",
       "  <thead>\n",
       "    <tr style=\"text-align: right;\">\n",
       "      <th></th>\n",
       "      <th>Unnamed: 0</th>\n",
       "      <th>Order ID</th>\n",
       "      <th>Product</th>\n",
       "      <th>Quantity Ordered</th>\n",
       "      <th>Price Each</th>\n",
       "      <th>Order Date</th>\n",
       "      <th>Purchase Address</th>\n",
       "    </tr>\n",
       "  </thead>\n",
       "  <tbody>\n",
       "    <tr>\n",
       "      <th>0</th>\n",
       "      <td>0</td>\n",
       "      <td>176558</td>\n",
       "      <td>USB-C Charging Cable</td>\n",
       "      <td>2</td>\n",
       "      <td>11.95</td>\n",
       "      <td>04/19/19 08:46</td>\n",
       "      <td>917 1st St, Dallas, TX 75001</td>\n",
       "    </tr>\n",
       "    <tr>\n",
       "      <th>1</th>\n",
       "      <td>1</td>\n",
       "      <td>NaN</td>\n",
       "      <td>NaN</td>\n",
       "      <td>NaN</td>\n",
       "      <td>NaN</td>\n",
       "      <td>NaN</td>\n",
       "      <td>NaN</td>\n",
       "    </tr>\n",
       "    <tr>\n",
       "      <th>2</th>\n",
       "      <td>2</td>\n",
       "      <td>176559</td>\n",
       "      <td>Bose SoundSport Headphones</td>\n",
       "      <td>1</td>\n",
       "      <td>99.99</td>\n",
       "      <td>04/07/19 22:30</td>\n",
       "      <td>682 Chestnut St, Boston, MA 02215</td>\n",
       "    </tr>\n",
       "    <tr>\n",
       "      <th>3</th>\n",
       "      <td>3</td>\n",
       "      <td>176560</td>\n",
       "      <td>Google Phone</td>\n",
       "      <td>1</td>\n",
       "      <td>600</td>\n",
       "      <td>04/12/19 14:38</td>\n",
       "      <td>669 Spruce St, Los Angeles, CA 90001</td>\n",
       "    </tr>\n",
       "    <tr>\n",
       "      <th>4</th>\n",
       "      <td>4</td>\n",
       "      <td>176560</td>\n",
       "      <td>Wired Headphones</td>\n",
       "      <td>1</td>\n",
       "      <td>11.99</td>\n",
       "      <td>04/12/19 14:38</td>\n",
       "      <td>669 Spruce St, Los Angeles, CA 90001</td>\n",
       "    </tr>\n",
       "  </tbody>\n",
       "</table>\n",
       "</div>"
      ],
      "text/plain": [
       "   Unnamed: 0 Order ID                     Product Quantity Ordered  \\\n",
       "0           0   176558        USB-C Charging Cable                2   \n",
       "1           1      NaN                         NaN              NaN   \n",
       "2           2   176559  Bose SoundSport Headphones                1   \n",
       "3           3   176560                Google Phone                1   \n",
       "4           4   176560            Wired Headphones                1   \n",
       "\n",
       "  Price Each      Order Date                      Purchase Address  \n",
       "0      11.95  04/19/19 08:46          917 1st St, Dallas, TX 75001  \n",
       "1        NaN             NaN                                   NaN  \n",
       "2      99.99  04/07/19 22:30     682 Chestnut St, Boston, MA 02215  \n",
       "3        600  04/12/19 14:38  669 Spruce St, Los Angeles, CA 90001  \n",
       "4      11.99  04/12/19 14:38  669 Spruce St, Los Angeles, CA 90001  "
      ]
     },
     "execution_count": 6,
     "metadata": {},
     "output_type": "execute_result"
    }
   ],
   "source": [
    "# Reading the dataset\n",
    "df1.head()"
   ]
  },
  {
   "cell_type": "markdown",
   "id": "316a8d38",
   "metadata": {},
   "source": [
    "We have successfully merged all the 12 csv files into the one csv file"
   ]
  },
  {
   "cell_type": "markdown",
   "id": "9f8c362a",
   "metadata": {},
   "source": [
    "### Basic EDA"
   ]
  },
  {
   "cell_type": "code",
   "execution_count": 7,
   "id": "43a81802",
   "metadata": {},
   "outputs": [],
   "source": [
    "# Removing Unnecessary columns\n",
    "Sales_Data = df1.drop(['Unnamed: 0'], axis=1)"
   ]
  },
  {
   "cell_type": "code",
   "execution_count": 8,
   "id": "b9f0b741",
   "metadata": {},
   "outputs": [
    {
     "data": {
      "text/plain": [
       "Index(['Order ID', 'Product', 'Quantity Ordered', 'Price Each', 'Order Date',\n",
       "       'Purchase Address'],\n",
       "      dtype='object')"
      ]
     },
     "execution_count": 8,
     "metadata": {},
     "output_type": "execute_result"
    }
   ],
   "source": [
    "Sales_Data.columns"
   ]
  },
  {
   "cell_type": "markdown",
   "id": "226a76f4",
   "metadata": {},
   "source": [
    "Hence, we have dropped unnecessary colun from our dataset"
   ]
  },
  {
   "cell_type": "code",
   "execution_count": 9,
   "id": "1bd18ac8",
   "metadata": {},
   "outputs": [
    {
     "name": "stdout",
     "output_type": "stream",
     "text": [
      "<class 'pandas.core.frame.DataFrame'>\n",
      "RangeIndex: 186850 entries, 0 to 186849\n",
      "Data columns (total 6 columns):\n",
      " #   Column            Non-Null Count   Dtype \n",
      "---  ------            --------------   ----- \n",
      " 0   Order ID          186305 non-null  object\n",
      " 1   Product           186305 non-null  object\n",
      " 2   Quantity Ordered  186305 non-null  object\n",
      " 3   Price Each        186305 non-null  object\n",
      " 4   Order Date        186305 non-null  object\n",
      " 5   Purchase Address  186305 non-null  object\n",
      "dtypes: object(6)\n",
      "memory usage: 8.6+ MB\n"
     ]
    }
   ],
   "source": [
    "# Dataset information\n",
    "Sales_Data.info()"
   ]
  },
  {
   "cell_type": "markdown",
   "id": "beb9e3a3",
   "metadata": {},
   "source": [
    "As we can see above, data type of all the attributes is object"
   ]
  },
  {
   "cell_type": "code",
   "execution_count": 10,
   "id": "bd3d53f7",
   "metadata": {},
   "outputs": [
    {
     "data": {
      "text/plain": [
       "Order ID            545\n",
       "Product             545\n",
       "Quantity Ordered    545\n",
       "Price Each          545\n",
       "Order Date          545\n",
       "Purchase Address    545\n",
       "dtype: int64"
      ]
     },
     "execution_count": 10,
     "metadata": {},
     "output_type": "execute_result"
    }
   ],
   "source": [
    "# Checking for null values\n",
    "Sales_Data.isnull().sum()"
   ]
  },
  {
   "cell_type": "code",
   "execution_count": 11,
   "id": "1a899b27",
   "metadata": {},
   "outputs": [
    {
     "data": {
      "text/plain": [
       "3270"
      ]
     },
     "execution_count": 11,
     "metadata": {},
     "output_type": "execute_result"
    }
   ],
   "source": [
    "Sales_Data.isnull().values.sum()"
   ]
  },
  {
   "cell_type": "markdown",
   "id": "2a72194c",
   "metadata": {},
   "source": [
    "Dataset has been encountered with 3270 null/empty values "
   ]
  },
  {
   "cell_type": "code",
   "execution_count": 12,
   "id": "46eb5671",
   "metadata": {},
   "outputs": [],
   "source": [
    "# Removing null values\n",
    "Sales_Data_df = Sales_Data.dropna(how='all')"
   ]
  },
  {
   "cell_type": "code",
   "execution_count": 13,
   "id": "bf4616c5",
   "metadata": {},
   "outputs": [
    {
     "data": {
      "text/plain": [
       "0"
      ]
     },
     "execution_count": 13,
     "metadata": {},
     "output_type": "execute_result"
    }
   ],
   "source": [
    "Sales_Data_df.isnull().values.sum()"
   ]
  },
  {
   "cell_type": "code",
   "execution_count": 14,
   "id": "dec7f029",
   "metadata": {},
   "outputs": [
    {
     "data": {
      "text/plain": [
       "Order ID            0\n",
       "Product             0\n",
       "Quantity Ordered    0\n",
       "Price Each          0\n",
       "Order Date          0\n",
       "Purchase Address    0\n",
       "dtype: int64"
      ]
     },
     "execution_count": 14,
     "metadata": {},
     "output_type": "execute_result"
    }
   ],
   "source": [
    "Sales_Data_df.isnull().sum()"
   ]
  },
  {
   "cell_type": "markdown",
   "id": "4bb7e383",
   "metadata": {},
   "source": [
    "We have reduced null/empty values to 0"
   ]
  },
  {
   "cell_type": "code",
   "execution_count": 15,
   "id": "12efb509",
   "metadata": {},
   "outputs": [
    {
     "data": {
      "text/html": [
       "<div>\n",
       "<style scoped>\n",
       "    .dataframe tbody tr th:only-of-type {\n",
       "        vertical-align: middle;\n",
       "    }\n",
       "\n",
       "    .dataframe tbody tr th {\n",
       "        vertical-align: top;\n",
       "    }\n",
       "\n",
       "    .dataframe thead th {\n",
       "        text-align: right;\n",
       "    }\n",
       "</style>\n",
       "<table border=\"1\" class=\"dataframe\">\n",
       "  <thead>\n",
       "    <tr style=\"text-align: right;\">\n",
       "      <th></th>\n",
       "      <th>Order ID</th>\n",
       "      <th>Product</th>\n",
       "      <th>Quantity Ordered</th>\n",
       "      <th>Price Each</th>\n",
       "      <th>Order Date</th>\n",
       "      <th>Purchase Address</th>\n",
       "    </tr>\n",
       "  </thead>\n",
       "  <tbody>\n",
       "    <tr>\n",
       "      <th>31</th>\n",
       "      <td>176585</td>\n",
       "      <td>Bose SoundSport Headphones</td>\n",
       "      <td>1</td>\n",
       "      <td>99.99</td>\n",
       "      <td>04/07/19 11:31</td>\n",
       "      <td>823 Highland St, Boston, MA 02215</td>\n",
       "    </tr>\n",
       "    <tr>\n",
       "      <th>356</th>\n",
       "      <td>NaN</td>\n",
       "      <td>NaN</td>\n",
       "      <td>NaN</td>\n",
       "      <td>NaN</td>\n",
       "      <td>NaN</td>\n",
       "      <td>NaN</td>\n",
       "    </tr>\n",
       "    <tr>\n",
       "      <th>735</th>\n",
       "      <td>NaN</td>\n",
       "      <td>NaN</td>\n",
       "      <td>NaN</td>\n",
       "      <td>NaN</td>\n",
       "      <td>NaN</td>\n",
       "      <td>NaN</td>\n",
       "    </tr>\n",
       "    <tr>\n",
       "      <th>1149</th>\n",
       "      <td>Order ID</td>\n",
       "      <td>Product</td>\n",
       "      <td>Quantity Ordered</td>\n",
       "      <td>Price Each</td>\n",
       "      <td>Order Date</td>\n",
       "      <td>Purchase Address</td>\n",
       "    </tr>\n",
       "    <tr>\n",
       "      <th>1155</th>\n",
       "      <td>Order ID</td>\n",
       "      <td>Product</td>\n",
       "      <td>Quantity Ordered</td>\n",
       "      <td>Price Each</td>\n",
       "      <td>Order Date</td>\n",
       "      <td>Purchase Address</td>\n",
       "    </tr>\n",
       "    <tr>\n",
       "      <th>...</th>\n",
       "      <td>...</td>\n",
       "      <td>...</td>\n",
       "      <td>...</td>\n",
       "      <td>...</td>\n",
       "      <td>...</td>\n",
       "      <td>...</td>\n",
       "    </tr>\n",
       "    <tr>\n",
       "      <th>186632</th>\n",
       "      <td>Order ID</td>\n",
       "      <td>Product</td>\n",
       "      <td>Quantity Ordered</td>\n",
       "      <td>Price Each</td>\n",
       "      <td>Order Date</td>\n",
       "      <td>Purchase Address</td>\n",
       "    </tr>\n",
       "    <tr>\n",
       "      <th>186738</th>\n",
       "      <td>Order ID</td>\n",
       "      <td>Product</td>\n",
       "      <td>Quantity Ordered</td>\n",
       "      <td>Price Each</td>\n",
       "      <td>Order Date</td>\n",
       "      <td>Purchase Address</td>\n",
       "    </tr>\n",
       "    <tr>\n",
       "      <th>186782</th>\n",
       "      <td>259296</td>\n",
       "      <td>Apple Airpods Headphones</td>\n",
       "      <td>1</td>\n",
       "      <td>150</td>\n",
       "      <td>09/28/19 16:48</td>\n",
       "      <td>894 6th St, Dallas, TX 75001</td>\n",
       "    </tr>\n",
       "    <tr>\n",
       "      <th>186785</th>\n",
       "      <td>259297</td>\n",
       "      <td>Lightning Charging Cable</td>\n",
       "      <td>1</td>\n",
       "      <td>14.95</td>\n",
       "      <td>09/15/19 18:54</td>\n",
       "      <td>138 Main St, Boston, MA 02215</td>\n",
       "    </tr>\n",
       "    <tr>\n",
       "      <th>186826</th>\n",
       "      <td>NaN</td>\n",
       "      <td>NaN</td>\n",
       "      <td>NaN</td>\n",
       "      <td>NaN</td>\n",
       "      <td>NaN</td>\n",
       "      <td>NaN</td>\n",
       "    </tr>\n",
       "  </tbody>\n",
       "</table>\n",
       "<p>1162 rows × 6 columns</p>\n",
       "</div>"
      ],
      "text/plain": [
       "        Order ID                     Product  Quantity Ordered  Price Each  \\\n",
       "31        176585  Bose SoundSport Headphones                 1       99.99   \n",
       "356          NaN                         NaN               NaN         NaN   \n",
       "735          NaN                         NaN               NaN         NaN   \n",
       "1149    Order ID                     Product  Quantity Ordered  Price Each   \n",
       "1155    Order ID                     Product  Quantity Ordered  Price Each   \n",
       "...          ...                         ...               ...         ...   \n",
       "186632  Order ID                     Product  Quantity Ordered  Price Each   \n",
       "186738  Order ID                     Product  Quantity Ordered  Price Each   \n",
       "186782    259296    Apple Airpods Headphones                 1         150   \n",
       "186785    259297    Lightning Charging Cable                 1       14.95   \n",
       "186826       NaN                         NaN               NaN         NaN   \n",
       "\n",
       "            Order Date                   Purchase Address  \n",
       "31      04/07/19 11:31  823 Highland St, Boston, MA 02215  \n",
       "356                NaN                                NaN  \n",
       "735                NaN                                NaN  \n",
       "1149        Order Date                   Purchase Address  \n",
       "1155        Order Date                   Purchase Address  \n",
       "...                ...                                ...  \n",
       "186632      Order Date                   Purchase Address  \n",
       "186738      Order Date                   Purchase Address  \n",
       "186782  09/28/19 16:48       894 6th St, Dallas, TX 75001  \n",
       "186785  09/15/19 18:54      138 Main St, Boston, MA 02215  \n",
       "186826             NaN                                NaN  \n",
       "\n",
       "[1162 rows x 6 columns]"
      ]
     },
     "execution_count": 15,
     "metadata": {},
     "output_type": "execute_result"
    }
   ],
   "source": [
    "# checking for Duplicated records\n",
    "Sales_Data[Sales_Data.duplicated()]"
   ]
  },
  {
   "cell_type": "code",
   "execution_count": 16,
   "id": "b015a154",
   "metadata": {},
   "outputs": [
    {
     "data": {
      "text/plain": [
       "1162"
      ]
     },
     "execution_count": 16,
     "metadata": {},
     "output_type": "execute_result"
    }
   ],
   "source": [
    "Sales_Data.duplicated().sum()"
   ]
  },
  {
   "cell_type": "markdown",
   "id": "c1dc9fd5",
   "metadata": {},
   "source": [
    "Our Dataset contains 1162 duplicated records"
   ]
  },
  {
   "cell_type": "code",
   "execution_count": 17,
   "id": "c69156da",
   "metadata": {},
   "outputs": [],
   "source": [
    "# Removing Duplicated records\n",
    "Sales_data = Sales_Data.drop_duplicates(keep=False)"
   ]
  },
  {
   "cell_type": "code",
   "execution_count": 18,
   "id": "3e08ad1f",
   "metadata": {},
   "outputs": [
    {
     "data": {
      "text/plain": [
       "0"
      ]
     },
     "execution_count": 18,
     "metadata": {},
     "output_type": "execute_result"
    }
   ],
   "source": [
    "Sales_data.duplicated().sum()"
   ]
  },
  {
   "cell_type": "markdown",
   "id": "8ca6fed0",
   "metadata": {},
   "source": [
    "We reduced duplicated records to 0 by dropping them"
   ]
  },
  {
   "cell_type": "code",
   "execution_count": 19,
   "id": "d7cb7033",
   "metadata": {},
   "outputs": [],
   "source": [
    "# Convert Columns to the correct type\n",
    "Sales_data['Quantity Ordered'] = pd.to_numeric(Sales_data['Quantity Ordered']) #make int\n",
    "Sales_data['Price Each'] = pd.to_numeric(Sales_data['Price Each']) #make float"
   ]
  },
  {
   "cell_type": "code",
   "execution_count": 20,
   "id": "79519987",
   "metadata": {},
   "outputs": [
    {
     "data": {
      "text/plain": [
       "Order ID             object\n",
       "Product              object\n",
       "Quantity Ordered      int64\n",
       "Price Each          float64\n",
       "Order Date           object\n",
       "Purchase Address     object\n",
       "dtype: object"
      ]
     },
     "execution_count": 20,
     "metadata": {},
     "output_type": "execute_result"
    }
   ],
   "source": [
    "Sales_data.dtypes"
   ]
  },
  {
   "cell_type": "markdown",
   "id": "52e43ce4",
   "metadata": {},
   "source": [
    "We successfully converted data types of 'Quantity Ordered' and 'Price Each' column to the correct type"
   ]
  },
  {
   "cell_type": "markdown",
   "id": "8924cbd0",
   "metadata": {},
   "source": [
    "### Addition of Columns"
   ]
  },
  {
   "cell_type": "code",
   "execution_count": 21,
   "id": "16d77bf4",
   "metadata": {},
   "outputs": [],
   "source": [
    "# Adding Month Column\n",
    "Sales_data = Sales_data[Sales_data['Order Date'].str[0:2] != 'Or']"
   ]
  },
  {
   "cell_type": "code",
   "execution_count": 22,
   "id": "23576df7",
   "metadata": {},
   "outputs": [],
   "source": [
    "Sales_data['Month'] = Sales_data['Order Date'].str[0:2]\n",
    "Sales_data['Month'] = Sales_data['Month'].astype('int32')"
   ]
  },
  {
   "cell_type": "code",
   "execution_count": 23,
   "id": "99ae60bf",
   "metadata": {},
   "outputs": [
    {
     "data": {
      "text/plain": [
       "Index(['Order ID', 'Product', 'Quantity Ordered', 'Price Each', 'Order Date',\n",
       "       'Purchase Address', 'Month'],\n",
       "      dtype='object')"
      ]
     },
     "execution_count": 23,
     "metadata": {},
     "output_type": "execute_result"
    }
   ],
   "source": [
    "Sales_data.columns"
   ]
  },
  {
   "cell_type": "code",
   "execution_count": 24,
   "id": "86b3c3ed",
   "metadata": {},
   "outputs": [
    {
     "data": {
      "text/html": [
       "<div>\n",
       "<style scoped>\n",
       "    .dataframe tbody tr th:only-of-type {\n",
       "        vertical-align: middle;\n",
       "    }\n",
       "\n",
       "    .dataframe tbody tr th {\n",
       "        vertical-align: top;\n",
       "    }\n",
       "\n",
       "    .dataframe thead th {\n",
       "        text-align: right;\n",
       "    }\n",
       "</style>\n",
       "<table border=\"1\" class=\"dataframe\">\n",
       "  <thead>\n",
       "    <tr style=\"text-align: right;\">\n",
       "      <th></th>\n",
       "      <th>Order ID</th>\n",
       "      <th>Product</th>\n",
       "      <th>Quantity Ordered</th>\n",
       "      <th>Price Each</th>\n",
       "      <th>Order Date</th>\n",
       "      <th>Purchase Address</th>\n",
       "      <th>Month</th>\n",
       "    </tr>\n",
       "  </thead>\n",
       "  <tbody>\n",
       "    <tr>\n",
       "      <th>0</th>\n",
       "      <td>176558</td>\n",
       "      <td>USB-C Charging Cable</td>\n",
       "      <td>2</td>\n",
       "      <td>11.95</td>\n",
       "      <td>04/19/19 08:46</td>\n",
       "      <td>917 1st St, Dallas, TX 75001</td>\n",
       "      <td>4</td>\n",
       "    </tr>\n",
       "    <tr>\n",
       "      <th>2</th>\n",
       "      <td>176559</td>\n",
       "      <td>Bose SoundSport Headphones</td>\n",
       "      <td>1</td>\n",
       "      <td>99.99</td>\n",
       "      <td>04/07/19 22:30</td>\n",
       "      <td>682 Chestnut St, Boston, MA 02215</td>\n",
       "      <td>4</td>\n",
       "    </tr>\n",
       "    <tr>\n",
       "      <th>3</th>\n",
       "      <td>176560</td>\n",
       "      <td>Google Phone</td>\n",
       "      <td>1</td>\n",
       "      <td>600.00</td>\n",
       "      <td>04/12/19 14:38</td>\n",
       "      <td>669 Spruce St, Los Angeles, CA 90001</td>\n",
       "      <td>4</td>\n",
       "    </tr>\n",
       "    <tr>\n",
       "      <th>4</th>\n",
       "      <td>176560</td>\n",
       "      <td>Wired Headphones</td>\n",
       "      <td>1</td>\n",
       "      <td>11.99</td>\n",
       "      <td>04/12/19 14:38</td>\n",
       "      <td>669 Spruce St, Los Angeles, CA 90001</td>\n",
       "      <td>4</td>\n",
       "    </tr>\n",
       "    <tr>\n",
       "      <th>5</th>\n",
       "      <td>176561</td>\n",
       "      <td>Wired Headphones</td>\n",
       "      <td>1</td>\n",
       "      <td>11.99</td>\n",
       "      <td>04/30/19 09:27</td>\n",
       "      <td>333 8th St, Los Angeles, CA 90001</td>\n",
       "      <td>4</td>\n",
       "    </tr>\n",
       "  </tbody>\n",
       "</table>\n",
       "</div>"
      ],
      "text/plain": [
       "  Order ID                     Product  Quantity Ordered  Price Each  \\\n",
       "0   176558        USB-C Charging Cable                 2       11.95   \n",
       "2   176559  Bose SoundSport Headphones                 1       99.99   \n",
       "3   176560                Google Phone                 1      600.00   \n",
       "4   176560            Wired Headphones                 1       11.99   \n",
       "5   176561            Wired Headphones                 1       11.99   \n",
       "\n",
       "       Order Date                      Purchase Address  Month  \n",
       "0  04/19/19 08:46          917 1st St, Dallas, TX 75001      4  \n",
       "2  04/07/19 22:30     682 Chestnut St, Boston, MA 02215      4  \n",
       "3  04/12/19 14:38  669 Spruce St, Los Angeles, CA 90001      4  \n",
       "4  04/12/19 14:38  669 Spruce St, Los Angeles, CA 90001      4  \n",
       "5  04/30/19 09:27     333 8th St, Los Angeles, CA 90001      4  "
      ]
     },
     "execution_count": 24,
     "metadata": {},
     "output_type": "execute_result"
    }
   ],
   "source": [
    "Sales_data.head()"
   ]
  },
  {
   "cell_type": "markdown",
   "id": "55f59781",
   "metadata": {},
   "source": [
    "Hence,we added the Month column in the our dataset"
   ]
  },
  {
   "cell_type": "code",
   "execution_count": 25,
   "id": "7a49b8e2",
   "metadata": {},
   "outputs": [],
   "source": [
    "# Convert \"Order Date\" Column from object to datetime \n",
    "Sales_data['Order Date']= pd.to_datetime(Sales_data['Order Date'])"
   ]
  },
  {
   "cell_type": "code",
   "execution_count": 26,
   "id": "f95c6878",
   "metadata": {},
   "outputs": [],
   "source": [
    "Sales_data['Order Date'] = pd.to_datetime(Sales_data['Order Date'], errors='coerce')"
   ]
  },
  {
   "cell_type": "code",
   "execution_count": 27,
   "id": "f50530ba",
   "metadata": {},
   "outputs": [],
   "source": [
    "# Adding a new column \"Month Name\" \n",
    "Sales_data['Month Name'] = Sales_data['Order Date'].dt.month_name().str[:3]"
   ]
  },
  {
   "cell_type": "code",
   "execution_count": 28,
   "id": "04eb408c",
   "metadata": {},
   "outputs": [
    {
     "data": {
      "text/html": [
       "<div>\n",
       "<style scoped>\n",
       "    .dataframe tbody tr th:only-of-type {\n",
       "        vertical-align: middle;\n",
       "    }\n",
       "\n",
       "    .dataframe tbody tr th {\n",
       "        vertical-align: top;\n",
       "    }\n",
       "\n",
       "    .dataframe thead th {\n",
       "        text-align: right;\n",
       "    }\n",
       "</style>\n",
       "<table border=\"1\" class=\"dataframe\">\n",
       "  <thead>\n",
       "    <tr style=\"text-align: right;\">\n",
       "      <th></th>\n",
       "      <th>Order ID</th>\n",
       "      <th>Product</th>\n",
       "      <th>Quantity Ordered</th>\n",
       "      <th>Price Each</th>\n",
       "      <th>Order Date</th>\n",
       "      <th>Purchase Address</th>\n",
       "      <th>Month</th>\n",
       "      <th>Month Name</th>\n",
       "    </tr>\n",
       "  </thead>\n",
       "  <tbody>\n",
       "    <tr>\n",
       "      <th>0</th>\n",
       "      <td>176558</td>\n",
       "      <td>USB-C Charging Cable</td>\n",
       "      <td>2</td>\n",
       "      <td>11.95</td>\n",
       "      <td>2019-04-19 08:46:00</td>\n",
       "      <td>917 1st St, Dallas, TX 75001</td>\n",
       "      <td>4</td>\n",
       "      <td>Apr</td>\n",
       "    </tr>\n",
       "    <tr>\n",
       "      <th>2</th>\n",
       "      <td>176559</td>\n",
       "      <td>Bose SoundSport Headphones</td>\n",
       "      <td>1</td>\n",
       "      <td>99.99</td>\n",
       "      <td>2019-04-07 22:30:00</td>\n",
       "      <td>682 Chestnut St, Boston, MA 02215</td>\n",
       "      <td>4</td>\n",
       "      <td>Apr</td>\n",
       "    </tr>\n",
       "    <tr>\n",
       "      <th>3</th>\n",
       "      <td>176560</td>\n",
       "      <td>Google Phone</td>\n",
       "      <td>1</td>\n",
       "      <td>600.00</td>\n",
       "      <td>2019-04-12 14:38:00</td>\n",
       "      <td>669 Spruce St, Los Angeles, CA 90001</td>\n",
       "      <td>4</td>\n",
       "      <td>Apr</td>\n",
       "    </tr>\n",
       "    <tr>\n",
       "      <th>4</th>\n",
       "      <td>176560</td>\n",
       "      <td>Wired Headphones</td>\n",
       "      <td>1</td>\n",
       "      <td>11.99</td>\n",
       "      <td>2019-04-12 14:38:00</td>\n",
       "      <td>669 Spruce St, Los Angeles, CA 90001</td>\n",
       "      <td>4</td>\n",
       "      <td>Apr</td>\n",
       "    </tr>\n",
       "    <tr>\n",
       "      <th>5</th>\n",
       "      <td>176561</td>\n",
       "      <td>Wired Headphones</td>\n",
       "      <td>1</td>\n",
       "      <td>11.99</td>\n",
       "      <td>2019-04-30 09:27:00</td>\n",
       "      <td>333 8th St, Los Angeles, CA 90001</td>\n",
       "      <td>4</td>\n",
       "      <td>Apr</td>\n",
       "    </tr>\n",
       "  </tbody>\n",
       "</table>\n",
       "</div>"
      ],
      "text/plain": [
       "  Order ID                     Product  Quantity Ordered  Price Each  \\\n",
       "0   176558        USB-C Charging Cable                 2       11.95   \n",
       "2   176559  Bose SoundSport Headphones                 1       99.99   \n",
       "3   176560                Google Phone                 1      600.00   \n",
       "4   176560            Wired Headphones                 1       11.99   \n",
       "5   176561            Wired Headphones                 1       11.99   \n",
       "\n",
       "           Order Date                      Purchase Address  Month Month Name  \n",
       "0 2019-04-19 08:46:00          917 1st St, Dallas, TX 75001      4        Apr  \n",
       "2 2019-04-07 22:30:00     682 Chestnut St, Boston, MA 02215      4        Apr  \n",
       "3 2019-04-12 14:38:00  669 Spruce St, Los Angeles, CA 90001      4        Apr  \n",
       "4 2019-04-12 14:38:00  669 Spruce St, Los Angeles, CA 90001      4        Apr  \n",
       "5 2019-04-30 09:27:00     333 8th St, Los Angeles, CA 90001      4        Apr  "
      ]
     },
     "execution_count": 28,
     "metadata": {},
     "output_type": "execute_result"
    }
   ],
   "source": [
    "Sales_data.head()"
   ]
  },
  {
   "cell_type": "code",
   "execution_count": 29,
   "id": "f803c478",
   "metadata": {},
   "outputs": [],
   "source": [
    "# Converting \"Order Date\" from datetime to object type\n",
    "Sales_data['Order Date'] = Sales_data['Order Date'].astype(str)"
   ]
  },
  {
   "cell_type": "code",
   "execution_count": 30,
   "id": "23d7c155",
   "metadata": {},
   "outputs": [
    {
     "data": {
      "text/plain": [
       "Order ID             object\n",
       "Product              object\n",
       "Quantity Ordered      int64\n",
       "Price Each          float64\n",
       "Order Date           object\n",
       "Purchase Address     object\n",
       "Month                 int32\n",
       "Month Name           object\n",
       "dtype: object"
      ]
     },
     "execution_count": 30,
     "metadata": {},
     "output_type": "execute_result"
    }
   ],
   "source": [
    "Sales_data.dtypes"
   ]
  },
  {
   "cell_type": "code",
   "execution_count": 31,
   "id": "ba93f741",
   "metadata": {},
   "outputs": [],
   "source": [
    "# Sorting Month and Month Name in the correct order\n",
    "sort_order = ['Jan', 'Feb','Mar','Apr','May','Jun','July','August','Sept','Oct','Nov','Dec']"
   ]
  },
  {
   "cell_type": "code",
   "execution_count": 32,
   "id": "751f8573",
   "metadata": {},
   "outputs": [],
   "source": [
    "Sales_data.index = pd.CategoricalIndex(Sales_data['Month Name'], categories=sort_order, ordered=True)"
   ]
  },
  {
   "cell_type": "code",
   "execution_count": 33,
   "id": "d4c34791",
   "metadata": {},
   "outputs": [
    {
     "data": {
      "text/html": [
       "<div>\n",
       "<style scoped>\n",
       "    .dataframe tbody tr th:only-of-type {\n",
       "        vertical-align: middle;\n",
       "    }\n",
       "\n",
       "    .dataframe tbody tr th {\n",
       "        vertical-align: top;\n",
       "    }\n",
       "\n",
       "    .dataframe thead th {\n",
       "        text-align: right;\n",
       "    }\n",
       "</style>\n",
       "<table border=\"1\" class=\"dataframe\">\n",
       "  <thead>\n",
       "    <tr style=\"text-align: right;\">\n",
       "      <th></th>\n",
       "      <th>Order ID</th>\n",
       "      <th>Product</th>\n",
       "      <th>Quantity Ordered</th>\n",
       "      <th>Price Each</th>\n",
       "      <th>Order Date</th>\n",
       "      <th>Purchase Address</th>\n",
       "      <th>Month</th>\n",
       "      <th>Month Name</th>\n",
       "    </tr>\n",
       "    <tr>\n",
       "      <th>Month Name</th>\n",
       "      <th></th>\n",
       "      <th></th>\n",
       "      <th></th>\n",
       "      <th></th>\n",
       "      <th></th>\n",
       "      <th></th>\n",
       "      <th></th>\n",
       "      <th></th>\n",
       "    </tr>\n",
       "  </thead>\n",
       "  <tbody>\n",
       "    <tr>\n",
       "      <th>Jan</th>\n",
       "      <td>142987</td>\n",
       "      <td>Lightning Charging Cable</td>\n",
       "      <td>1</td>\n",
       "      <td>14.95</td>\n",
       "      <td>2019-01-12 17:05:00</td>\n",
       "      <td>909 South St, Austin, TX 73301</td>\n",
       "      <td>1</td>\n",
       "      <td>Jan</td>\n",
       "    </tr>\n",
       "    <tr>\n",
       "      <th>Jan</th>\n",
       "      <td>146470</td>\n",
       "      <td>Bose SoundSport Headphones</td>\n",
       "      <td>1</td>\n",
       "      <td>99.99</td>\n",
       "      <td>2019-01-17 11:29:00</td>\n",
       "      <td>442 West St, Atlanta, GA 30301</td>\n",
       "      <td>1</td>\n",
       "      <td>Jan</td>\n",
       "    </tr>\n",
       "    <tr>\n",
       "      <th>Jan</th>\n",
       "      <td>146469</td>\n",
       "      <td>AA Batteries (4-pack)</td>\n",
       "      <td>2</td>\n",
       "      <td>3.84</td>\n",
       "      <td>2019-01-02 21:45:00</td>\n",
       "      <td>319 Willow St, Los Angeles, CA 90001</td>\n",
       "      <td>1</td>\n",
       "      <td>Jan</td>\n",
       "    </tr>\n",
       "    <tr>\n",
       "      <th>Jan</th>\n",
       "      <td>146468</td>\n",
       "      <td>Bose SoundSport Headphones</td>\n",
       "      <td>1</td>\n",
       "      <td>99.99</td>\n",
       "      <td>2019-01-23 18:55:00</td>\n",
       "      <td>592 River St, Los Angeles, CA 90001</td>\n",
       "      <td>1</td>\n",
       "      <td>Jan</td>\n",
       "    </tr>\n",
       "    <tr>\n",
       "      <th>Jan</th>\n",
       "      <td>146467</td>\n",
       "      <td>Macbook Pro Laptop</td>\n",
       "      <td>1</td>\n",
       "      <td>1700.00</td>\n",
       "      <td>2019-01-25 14:16:00</td>\n",
       "      <td>950 5th St, Los Angeles, CA 90001</td>\n",
       "      <td>1</td>\n",
       "      <td>Jan</td>\n",
       "    </tr>\n",
       "  </tbody>\n",
       "</table>\n",
       "</div>"
      ],
      "text/plain": [
       "           Order ID                     Product  Quantity Ordered  Price Each  \\\n",
       "Month Name                                                                      \n",
       "Jan          142987    Lightning Charging Cable                 1       14.95   \n",
       "Jan          146470  Bose SoundSport Headphones                 1       99.99   \n",
       "Jan          146469       AA Batteries (4-pack)                 2        3.84   \n",
       "Jan          146468  Bose SoundSport Headphones                 1       99.99   \n",
       "Jan          146467          Macbook Pro Laptop                 1     1700.00   \n",
       "\n",
       "                     Order Date                      Purchase Address  Month  \\\n",
       "Month Name                                                                     \n",
       "Jan         2019-01-12 17:05:00        909 South St, Austin, TX 73301      1   \n",
       "Jan         2019-01-17 11:29:00        442 West St, Atlanta, GA 30301      1   \n",
       "Jan         2019-01-02 21:45:00  319 Willow St, Los Angeles, CA 90001      1   \n",
       "Jan         2019-01-23 18:55:00   592 River St, Los Angeles, CA 90001      1   \n",
       "Jan         2019-01-25 14:16:00     950 5th St, Los Angeles, CA 90001      1   \n",
       "\n",
       "           Month Name  \n",
       "Month Name             \n",
       "Jan               Jan  \n",
       "Jan               Jan  \n",
       "Jan               Jan  \n",
       "Jan               Jan  \n",
       "Jan               Jan  "
      ]
     },
     "execution_count": 33,
     "metadata": {},
     "output_type": "execute_result"
    }
   ],
   "source": [
    "Sales_data.sort_index().head()"
   ]
  },
  {
   "cell_type": "markdown",
   "id": "b714bd22",
   "metadata": {},
   "source": [
    "As we can see, I've added Month Name column in the dataset"
   ]
  },
  {
   "cell_type": "code",
   "execution_count": 34,
   "id": "73a066c7",
   "metadata": {},
   "outputs": [],
   "source": [
    "# Adding Sales Column \n",
    "Sales_data['Sales'] = Sales_data['Quantity Ordered'] * Sales_data['Price Each']"
   ]
  },
  {
   "cell_type": "code",
   "execution_count": 35,
   "id": "6ee41f60",
   "metadata": {},
   "outputs": [
    {
     "data": {
      "text/html": [
       "<div>\n",
       "<style scoped>\n",
       "    .dataframe tbody tr th:only-of-type {\n",
       "        vertical-align: middle;\n",
       "    }\n",
       "\n",
       "    .dataframe tbody tr th {\n",
       "        vertical-align: top;\n",
       "    }\n",
       "\n",
       "    .dataframe thead th {\n",
       "        text-align: right;\n",
       "    }\n",
       "</style>\n",
       "<table border=\"1\" class=\"dataframe\">\n",
       "  <thead>\n",
       "    <tr style=\"text-align: right;\">\n",
       "      <th></th>\n",
       "      <th>Order ID</th>\n",
       "      <th>Product</th>\n",
       "      <th>Quantity Ordered</th>\n",
       "      <th>Price Each</th>\n",
       "      <th>Order Date</th>\n",
       "      <th>Purchase Address</th>\n",
       "      <th>Month</th>\n",
       "      <th>Month Name</th>\n",
       "      <th>Sales</th>\n",
       "    </tr>\n",
       "    <tr>\n",
       "      <th>Month Name</th>\n",
       "      <th></th>\n",
       "      <th></th>\n",
       "      <th></th>\n",
       "      <th></th>\n",
       "      <th></th>\n",
       "      <th></th>\n",
       "      <th></th>\n",
       "      <th></th>\n",
       "      <th></th>\n",
       "    </tr>\n",
       "  </thead>\n",
       "  <tbody>\n",
       "    <tr>\n",
       "      <th>Apr</th>\n",
       "      <td>176558</td>\n",
       "      <td>USB-C Charging Cable</td>\n",
       "      <td>2</td>\n",
       "      <td>11.95</td>\n",
       "      <td>2019-04-19 08:46:00</td>\n",
       "      <td>917 1st St, Dallas, TX 75001</td>\n",
       "      <td>4</td>\n",
       "      <td>Apr</td>\n",
       "      <td>23.90</td>\n",
       "    </tr>\n",
       "    <tr>\n",
       "      <th>Apr</th>\n",
       "      <td>176559</td>\n",
       "      <td>Bose SoundSport Headphones</td>\n",
       "      <td>1</td>\n",
       "      <td>99.99</td>\n",
       "      <td>2019-04-07 22:30:00</td>\n",
       "      <td>682 Chestnut St, Boston, MA 02215</td>\n",
       "      <td>4</td>\n",
       "      <td>Apr</td>\n",
       "      <td>99.99</td>\n",
       "    </tr>\n",
       "    <tr>\n",
       "      <th>Apr</th>\n",
       "      <td>176560</td>\n",
       "      <td>Google Phone</td>\n",
       "      <td>1</td>\n",
       "      <td>600.00</td>\n",
       "      <td>2019-04-12 14:38:00</td>\n",
       "      <td>669 Spruce St, Los Angeles, CA 90001</td>\n",
       "      <td>4</td>\n",
       "      <td>Apr</td>\n",
       "      <td>600.00</td>\n",
       "    </tr>\n",
       "    <tr>\n",
       "      <th>Apr</th>\n",
       "      <td>176560</td>\n",
       "      <td>Wired Headphones</td>\n",
       "      <td>1</td>\n",
       "      <td>11.99</td>\n",
       "      <td>2019-04-12 14:38:00</td>\n",
       "      <td>669 Spruce St, Los Angeles, CA 90001</td>\n",
       "      <td>4</td>\n",
       "      <td>Apr</td>\n",
       "      <td>11.99</td>\n",
       "    </tr>\n",
       "    <tr>\n",
       "      <th>Apr</th>\n",
       "      <td>176561</td>\n",
       "      <td>Wired Headphones</td>\n",
       "      <td>1</td>\n",
       "      <td>11.99</td>\n",
       "      <td>2019-04-30 09:27:00</td>\n",
       "      <td>333 8th St, Los Angeles, CA 90001</td>\n",
       "      <td>4</td>\n",
       "      <td>Apr</td>\n",
       "      <td>11.99</td>\n",
       "    </tr>\n",
       "  </tbody>\n",
       "</table>\n",
       "</div>"
      ],
      "text/plain": [
       "           Order ID                     Product  Quantity Ordered  Price Each  \\\n",
       "Month Name                                                                      \n",
       "Apr          176558        USB-C Charging Cable                 2       11.95   \n",
       "Apr          176559  Bose SoundSport Headphones                 1       99.99   \n",
       "Apr          176560                Google Phone                 1      600.00   \n",
       "Apr          176560            Wired Headphones                 1       11.99   \n",
       "Apr          176561            Wired Headphones                 1       11.99   \n",
       "\n",
       "                     Order Date                      Purchase Address  Month  \\\n",
       "Month Name                                                                     \n",
       "Apr         2019-04-19 08:46:00          917 1st St, Dallas, TX 75001      4   \n",
       "Apr         2019-04-07 22:30:00     682 Chestnut St, Boston, MA 02215      4   \n",
       "Apr         2019-04-12 14:38:00  669 Spruce St, Los Angeles, CA 90001      4   \n",
       "Apr         2019-04-12 14:38:00  669 Spruce St, Los Angeles, CA 90001      4   \n",
       "Apr         2019-04-30 09:27:00     333 8th St, Los Angeles, CA 90001      4   \n",
       "\n",
       "           Month Name   Sales  \n",
       "Month Name                     \n",
       "Apr               Apr   23.90  \n",
       "Apr               Apr   99.99  \n",
       "Apr               Apr  600.00  \n",
       "Apr               Apr   11.99  \n",
       "Apr               Apr   11.99  "
      ]
     },
     "execution_count": 35,
     "metadata": {},
     "output_type": "execute_result"
    }
   ],
   "source": [
    "Sales_data.head()"
   ]
  },
  {
   "cell_type": "code",
   "execution_count": 36,
   "id": "a8efd12b",
   "metadata": {},
   "outputs": [
    {
     "data": {
      "text/plain": [
       "Order ID             object\n",
       "Product              object\n",
       "Quantity Ordered      int64\n",
       "Price Each          float64\n",
       "Order Date           object\n",
       "Purchase Address     object\n",
       "Month                 int32\n",
       "Month Name           object\n",
       "Sales               float64\n",
       "dtype: object"
      ]
     },
     "execution_count": 36,
     "metadata": {},
     "output_type": "execute_result"
    }
   ],
   "source": [
    "Sales_data.dtypes"
   ]
  },
  {
   "cell_type": "code",
   "execution_count": 37,
   "id": "7f5e35bf",
   "metadata": {},
   "outputs": [],
   "source": [
    "# Adding new column \"Hour\"\n",
    "Sales_data['Hour'] = pd.to_datetime(Sales_data['Order Date']).dt.hour"
   ]
  },
  {
   "cell_type": "code",
   "execution_count": 38,
   "id": "dd6ed844",
   "metadata": {},
   "outputs": [],
   "source": [
    "# Adding new column \"Minute\"\n",
    "Sales_data['Minute'] = pd.to_datetime(Sales_data['Order Date']).dt.minute"
   ]
  },
  {
   "cell_type": "code",
   "execution_count": 39,
   "id": "68bf6125",
   "metadata": {},
   "outputs": [
    {
     "data": {
      "text/plain": [
       "Index(['Order ID', 'Product', 'Quantity Ordered', 'Price Each', 'Order Date',\n",
       "       'Purchase Address', 'Month', 'Month Name', 'Sales', 'Hour', 'Minute'],\n",
       "      dtype='object')"
      ]
     },
     "execution_count": 39,
     "metadata": {},
     "output_type": "execute_result"
    }
   ],
   "source": [
    "Sales_data.columns"
   ]
  },
  {
   "cell_type": "code",
   "execution_count": 40,
   "id": "fef1d86b",
   "metadata": {},
   "outputs": [
    {
     "data": {
      "text/html": [
       "<div>\n",
       "<style scoped>\n",
       "    .dataframe tbody tr th:only-of-type {\n",
       "        vertical-align: middle;\n",
       "    }\n",
       "\n",
       "    .dataframe tbody tr th {\n",
       "        vertical-align: top;\n",
       "    }\n",
       "\n",
       "    .dataframe thead th {\n",
       "        text-align: right;\n",
       "    }\n",
       "</style>\n",
       "<table border=\"1\" class=\"dataframe\">\n",
       "  <thead>\n",
       "    <tr style=\"text-align: right;\">\n",
       "      <th></th>\n",
       "      <th>Order ID</th>\n",
       "      <th>Product</th>\n",
       "      <th>Quantity Ordered</th>\n",
       "      <th>Price Each</th>\n",
       "      <th>Order Date</th>\n",
       "      <th>Purchase Address</th>\n",
       "      <th>Month</th>\n",
       "      <th>Month Name</th>\n",
       "      <th>Sales</th>\n",
       "      <th>Hour</th>\n",
       "      <th>Minute</th>\n",
       "    </tr>\n",
       "    <tr>\n",
       "      <th>Month Name</th>\n",
       "      <th></th>\n",
       "      <th></th>\n",
       "      <th></th>\n",
       "      <th></th>\n",
       "      <th></th>\n",
       "      <th></th>\n",
       "      <th></th>\n",
       "      <th></th>\n",
       "      <th></th>\n",
       "      <th></th>\n",
       "      <th></th>\n",
       "    </tr>\n",
       "  </thead>\n",
       "  <tbody>\n",
       "    <tr>\n",
       "      <th>Jan</th>\n",
       "      <td>142987</td>\n",
       "      <td>Lightning Charging Cable</td>\n",
       "      <td>1</td>\n",
       "      <td>14.95</td>\n",
       "      <td>2019-01-12 17:05:00</td>\n",
       "      <td>909 South St, Austin, TX 73301</td>\n",
       "      <td>1</td>\n",
       "      <td>Jan</td>\n",
       "      <td>14.95</td>\n",
       "      <td>17</td>\n",
       "      <td>5</td>\n",
       "    </tr>\n",
       "    <tr>\n",
       "      <th>Jan</th>\n",
       "      <td>146470</td>\n",
       "      <td>Bose SoundSport Headphones</td>\n",
       "      <td>1</td>\n",
       "      <td>99.99</td>\n",
       "      <td>2019-01-17 11:29:00</td>\n",
       "      <td>442 West St, Atlanta, GA 30301</td>\n",
       "      <td>1</td>\n",
       "      <td>Jan</td>\n",
       "      <td>99.99</td>\n",
       "      <td>11</td>\n",
       "      <td>29</td>\n",
       "    </tr>\n",
       "    <tr>\n",
       "      <th>Jan</th>\n",
       "      <td>146469</td>\n",
       "      <td>AA Batteries (4-pack)</td>\n",
       "      <td>2</td>\n",
       "      <td>3.84</td>\n",
       "      <td>2019-01-02 21:45:00</td>\n",
       "      <td>319 Willow St, Los Angeles, CA 90001</td>\n",
       "      <td>1</td>\n",
       "      <td>Jan</td>\n",
       "      <td>7.68</td>\n",
       "      <td>21</td>\n",
       "      <td>45</td>\n",
       "    </tr>\n",
       "    <tr>\n",
       "      <th>Jan</th>\n",
       "      <td>146468</td>\n",
       "      <td>Bose SoundSport Headphones</td>\n",
       "      <td>1</td>\n",
       "      <td>99.99</td>\n",
       "      <td>2019-01-23 18:55:00</td>\n",
       "      <td>592 River St, Los Angeles, CA 90001</td>\n",
       "      <td>1</td>\n",
       "      <td>Jan</td>\n",
       "      <td>99.99</td>\n",
       "      <td>18</td>\n",
       "      <td>55</td>\n",
       "    </tr>\n",
       "    <tr>\n",
       "      <th>Jan</th>\n",
       "      <td>146467</td>\n",
       "      <td>Macbook Pro Laptop</td>\n",
       "      <td>1</td>\n",
       "      <td>1700.00</td>\n",
       "      <td>2019-01-25 14:16:00</td>\n",
       "      <td>950 5th St, Los Angeles, CA 90001</td>\n",
       "      <td>1</td>\n",
       "      <td>Jan</td>\n",
       "      <td>1700.00</td>\n",
       "      <td>14</td>\n",
       "      <td>16</td>\n",
       "    </tr>\n",
       "  </tbody>\n",
       "</table>\n",
       "</div>"
      ],
      "text/plain": [
       "           Order ID                     Product  Quantity Ordered  Price Each  \\\n",
       "Month Name                                                                      \n",
       "Jan          142987    Lightning Charging Cable                 1       14.95   \n",
       "Jan          146470  Bose SoundSport Headphones                 1       99.99   \n",
       "Jan          146469       AA Batteries (4-pack)                 2        3.84   \n",
       "Jan          146468  Bose SoundSport Headphones                 1       99.99   \n",
       "Jan          146467          Macbook Pro Laptop                 1     1700.00   \n",
       "\n",
       "                     Order Date                      Purchase Address  Month  \\\n",
       "Month Name                                                                     \n",
       "Jan         2019-01-12 17:05:00        909 South St, Austin, TX 73301      1   \n",
       "Jan         2019-01-17 11:29:00        442 West St, Atlanta, GA 30301      1   \n",
       "Jan         2019-01-02 21:45:00  319 Willow St, Los Angeles, CA 90001      1   \n",
       "Jan         2019-01-23 18:55:00   592 River St, Los Angeles, CA 90001      1   \n",
       "Jan         2019-01-25 14:16:00     950 5th St, Los Angeles, CA 90001      1   \n",
       "\n",
       "           Month Name    Sales  Hour  Minute  \n",
       "Month Name                                    \n",
       "Jan               Jan    14.95    17       5  \n",
       "Jan               Jan    99.99    11      29  \n",
       "Jan               Jan     7.68    21      45  \n",
       "Jan               Jan    99.99    18      55  \n",
       "Jan               Jan  1700.00    14      16  "
      ]
     },
     "execution_count": 40,
     "metadata": {},
     "output_type": "execute_result"
    }
   ],
   "source": [
    "Sales_data.sort_index().head()"
   ]
  },
  {
   "cell_type": "code",
   "execution_count": 41,
   "id": "11e5d28a",
   "metadata": {},
   "outputs": [],
   "source": [
    "# Extract city from Purchase Address\n",
    "Sales_data['city'] = Sales_data['Purchase Address'].str.split(',').str[1]"
   ]
  },
  {
   "cell_type": "code",
   "execution_count": 42,
   "id": "c1394f44",
   "metadata": {},
   "outputs": [
    {
     "data": {
      "text/plain": [
       "Index(['Order ID', 'Product', 'Quantity Ordered', 'Price Each', 'Order Date',\n",
       "       'Purchase Address', 'Month', 'Month Name', 'Sales', 'Hour', 'Minute',\n",
       "       'city'],\n",
       "      dtype='object')"
      ]
     },
     "execution_count": 42,
     "metadata": {},
     "output_type": "execute_result"
    }
   ],
   "source": [
    "Sales_data.columns"
   ]
  },
  {
   "cell_type": "code",
   "execution_count": 43,
   "id": "7c9313c9",
   "metadata": {
    "scrolled": true
   },
   "outputs": [
    {
     "data": {
      "text/html": [
       "<div>\n",
       "<style scoped>\n",
       "    .dataframe tbody tr th:only-of-type {\n",
       "        vertical-align: middle;\n",
       "    }\n",
       "\n",
       "    .dataframe tbody tr th {\n",
       "        vertical-align: top;\n",
       "    }\n",
       "\n",
       "    .dataframe thead th {\n",
       "        text-align: right;\n",
       "    }\n",
       "</style>\n",
       "<table border=\"1\" class=\"dataframe\">\n",
       "  <thead>\n",
       "    <tr style=\"text-align: right;\">\n",
       "      <th></th>\n",
       "      <th>Order ID</th>\n",
       "      <th>Product</th>\n",
       "      <th>Quantity Ordered</th>\n",
       "      <th>Price Each</th>\n",
       "      <th>Order Date</th>\n",
       "      <th>Purchase Address</th>\n",
       "      <th>Month</th>\n",
       "      <th>Month Name</th>\n",
       "      <th>Sales</th>\n",
       "      <th>Hour</th>\n",
       "      <th>Minute</th>\n",
       "      <th>city</th>\n",
       "    </tr>\n",
       "    <tr>\n",
       "      <th>Month Name</th>\n",
       "      <th></th>\n",
       "      <th></th>\n",
       "      <th></th>\n",
       "      <th></th>\n",
       "      <th></th>\n",
       "      <th></th>\n",
       "      <th></th>\n",
       "      <th></th>\n",
       "      <th></th>\n",
       "      <th></th>\n",
       "      <th></th>\n",
       "      <th></th>\n",
       "    </tr>\n",
       "  </thead>\n",
       "  <tbody>\n",
       "    <tr>\n",
       "      <th>Apr</th>\n",
       "      <td>176558</td>\n",
       "      <td>USB-C Charging Cable</td>\n",
       "      <td>2</td>\n",
       "      <td>11.95</td>\n",
       "      <td>2019-04-19 08:46:00</td>\n",
       "      <td>917 1st St, Dallas, TX 75001</td>\n",
       "      <td>4</td>\n",
       "      <td>Apr</td>\n",
       "      <td>23.90</td>\n",
       "      <td>8</td>\n",
       "      <td>46</td>\n",
       "      <td>Dallas</td>\n",
       "    </tr>\n",
       "    <tr>\n",
       "      <th>Apr</th>\n",
       "      <td>176559</td>\n",
       "      <td>Bose SoundSport Headphones</td>\n",
       "      <td>1</td>\n",
       "      <td>99.99</td>\n",
       "      <td>2019-04-07 22:30:00</td>\n",
       "      <td>682 Chestnut St, Boston, MA 02215</td>\n",
       "      <td>4</td>\n",
       "      <td>Apr</td>\n",
       "      <td>99.99</td>\n",
       "      <td>22</td>\n",
       "      <td>30</td>\n",
       "      <td>Boston</td>\n",
       "    </tr>\n",
       "    <tr>\n",
       "      <th>Apr</th>\n",
       "      <td>176560</td>\n",
       "      <td>Google Phone</td>\n",
       "      <td>1</td>\n",
       "      <td>600.00</td>\n",
       "      <td>2019-04-12 14:38:00</td>\n",
       "      <td>669 Spruce St, Los Angeles, CA 90001</td>\n",
       "      <td>4</td>\n",
       "      <td>Apr</td>\n",
       "      <td>600.00</td>\n",
       "      <td>14</td>\n",
       "      <td>38</td>\n",
       "      <td>Los Angeles</td>\n",
       "    </tr>\n",
       "    <tr>\n",
       "      <th>Apr</th>\n",
       "      <td>176560</td>\n",
       "      <td>Wired Headphones</td>\n",
       "      <td>1</td>\n",
       "      <td>11.99</td>\n",
       "      <td>2019-04-12 14:38:00</td>\n",
       "      <td>669 Spruce St, Los Angeles, CA 90001</td>\n",
       "      <td>4</td>\n",
       "      <td>Apr</td>\n",
       "      <td>11.99</td>\n",
       "      <td>14</td>\n",
       "      <td>38</td>\n",
       "      <td>Los Angeles</td>\n",
       "    </tr>\n",
       "    <tr>\n",
       "      <th>Apr</th>\n",
       "      <td>176561</td>\n",
       "      <td>Wired Headphones</td>\n",
       "      <td>1</td>\n",
       "      <td>11.99</td>\n",
       "      <td>2019-04-30 09:27:00</td>\n",
       "      <td>333 8th St, Los Angeles, CA 90001</td>\n",
       "      <td>4</td>\n",
       "      <td>Apr</td>\n",
       "      <td>11.99</td>\n",
       "      <td>9</td>\n",
       "      <td>27</td>\n",
       "      <td>Los Angeles</td>\n",
       "    </tr>\n",
       "  </tbody>\n",
       "</table>\n",
       "</div>"
      ],
      "text/plain": [
       "           Order ID                     Product  Quantity Ordered  Price Each  \\\n",
       "Month Name                                                                      \n",
       "Apr          176558        USB-C Charging Cable                 2       11.95   \n",
       "Apr          176559  Bose SoundSport Headphones                 1       99.99   \n",
       "Apr          176560                Google Phone                 1      600.00   \n",
       "Apr          176560            Wired Headphones                 1       11.99   \n",
       "Apr          176561            Wired Headphones                 1       11.99   \n",
       "\n",
       "                     Order Date                      Purchase Address  Month  \\\n",
       "Month Name                                                                     \n",
       "Apr         2019-04-19 08:46:00          917 1st St, Dallas, TX 75001      4   \n",
       "Apr         2019-04-07 22:30:00     682 Chestnut St, Boston, MA 02215      4   \n",
       "Apr         2019-04-12 14:38:00  669 Spruce St, Los Angeles, CA 90001      4   \n",
       "Apr         2019-04-12 14:38:00  669 Spruce St, Los Angeles, CA 90001      4   \n",
       "Apr         2019-04-30 09:27:00     333 8th St, Los Angeles, CA 90001      4   \n",
       "\n",
       "           Month Name   Sales  Hour  Minute          city  \n",
       "Month Name                                                 \n",
       "Apr               Apr   23.90     8      46        Dallas  \n",
       "Apr               Apr   99.99    22      30        Boston  \n",
       "Apr               Apr  600.00    14      38   Los Angeles  \n",
       "Apr               Apr   11.99    14      38   Los Angeles  \n",
       "Apr               Apr   11.99     9      27   Los Angeles  "
      ]
     },
     "execution_count": 43,
     "metadata": {},
     "output_type": "execute_result"
    }
   ],
   "source": [
    "Sales_data.head()"
   ]
  },
  {
   "cell_type": "code",
   "execution_count": 44,
   "id": "1c297235",
   "metadata": {},
   "outputs": [
    {
     "data": {
      "text/plain": [
       "array([' Dallas', ' Boston', ' Los Angeles', ' San Francisco', ' Seattle',\n",
       "       ' Atlanta', ' New York City', ' Portland', ' Austin'], dtype=object)"
      ]
     },
     "execution_count": 44,
     "metadata": {},
     "output_type": "execute_result"
    }
   ],
   "source": [
    "Sales_data['city'].unique()"
   ]
  },
  {
   "cell_type": "code",
   "execution_count": 45,
   "id": "bc347d2a",
   "metadata": {},
   "outputs": [
    {
     "data": {
      "text/plain": [
       "array(['USB-C Charging Cable', 'Bose SoundSport Headphones',\n",
       "       'Google Phone', 'Wired Headphones', 'Macbook Pro Laptop',\n",
       "       'Lightning Charging Cable', '27in 4K Gaming Monitor',\n",
       "       'AA Batteries (4-pack)', 'Apple Airpods Headphones',\n",
       "       'AAA Batteries (4-pack)', 'iPhone', 'Flatscreen TV',\n",
       "       '27in FHD Monitor', '20in Monitor', 'LG Dryer', 'ThinkPad Laptop',\n",
       "       'Vareebadd Phone', 'LG Washing Machine', '34in Ultrawide Monitor'],\n",
       "      dtype=object)"
      ]
     },
     "execution_count": 45,
     "metadata": {},
     "output_type": "execute_result"
    }
   ],
   "source": [
    "Sales_data['Product'].unique()"
   ]
  },
  {
   "cell_type": "code",
   "execution_count": 46,
   "id": "6b40d75a",
   "metadata": {},
   "outputs": [
    {
     "data": {
      "text/plain": [
       "19"
      ]
     },
     "execution_count": 46,
     "metadata": {},
     "output_type": "execute_result"
    }
   ],
   "source": [
    "len(Sales_data['Product'].unique()) #19 unique products"
   ]
  },
  {
   "cell_type": "code",
   "execution_count": 47,
   "id": "a867a399",
   "metadata": {},
   "outputs": [
    {
     "data": {
      "text/plain": [
       "array([2, 1, 3, 5, 4, 7, 6, 8, 9], dtype=int64)"
      ]
     },
     "execution_count": 47,
     "metadata": {},
     "output_type": "execute_result"
    }
   ],
   "source": [
    "Sales_data['Quantity Ordered'].unique()"
   ]
  },
  {
   "cell_type": "code",
   "execution_count": 48,
   "id": "14fd022a",
   "metadata": {},
   "outputs": [
    {
     "data": {
      "text/plain": [
       "array([  11.95,   99.99,  600.  ,   11.99, 1700.  ,   14.95,  389.99,\n",
       "          3.84,  150.  ,    2.99,  700.  ,  300.  ,  149.99,  109.99,\n",
       "        999.99,  400.  ,  379.99])"
      ]
     },
     "execution_count": 48,
     "metadata": {},
     "output_type": "execute_result"
    }
   ],
   "source": [
    "Sales_data['Price Each'].unique()"
   ]
  },
  {
   "cell_type": "code",
   "execution_count": 49,
   "id": "72e22398",
   "metadata": {},
   "outputs": [
    {
     "data": {
      "text/plain": [
       "Product\n",
       "20in Monitor                  [109.99]\n",
       "27in 4K Gaming Monitor        [389.99]\n",
       "27in FHD Monitor              [149.99]\n",
       "34in Ultrawide Monitor        [379.99]\n",
       "AA Batteries (4-pack)           [3.84]\n",
       "AAA Batteries (4-pack)          [2.99]\n",
       "Apple Airpods Headphones       [150.0]\n",
       "Bose SoundSport Headphones     [99.99]\n",
       "Flatscreen TV                  [300.0]\n",
       "Google Phone                   [600.0]\n",
       "LG Dryer                       [600.0]\n",
       "LG Washing Machine             [600.0]\n",
       "Lightning Charging Cable       [14.95]\n",
       "Macbook Pro Laptop            [1700.0]\n",
       "ThinkPad Laptop               [999.99]\n",
       "USB-C Charging Cable           [11.95]\n",
       "Vareebadd Phone                [400.0]\n",
       "Wired Headphones               [11.99]\n",
       "iPhone                         [700.0]\n",
       "Name: Price Each, dtype: object"
      ]
     },
     "execution_count": 49,
     "metadata": {},
     "output_type": "execute_result"
    }
   ],
   "source": [
    "# Unique price of each product\n",
    "Sales_data.groupby(['Product'])['Price Each'].unique()"
   ]
  },
  {
   "cell_type": "code",
   "execution_count": 50,
   "id": "24761874",
   "metadata": {},
   "outputs": [
    {
     "data": {
      "text/plain": [
       "Product\n",
       "20in Monitor                                       [1, 2]\n",
       "27in 4K Gaming Monitor                             [1, 2]\n",
       "27in FHD Monitor                                   [1, 2]\n",
       "34in Ultrawide Monitor                             [1, 2]\n",
       "AA Batteries (4-pack)               [1, 2, 3, 4, 5, 6, 7]\n",
       "AAA Batteries (4-pack)        [1, 2, 3, 5, 4, 7, 6, 8, 9]\n",
       "Apple Airpods Headphones                        [1, 2, 3]\n",
       "Bose SoundSport Headphones                      [1, 2, 3]\n",
       "Flatscreen TV                                      [1, 2]\n",
       "Google Phone                                       [1, 2]\n",
       "LG Dryer                                              [1]\n",
       "LG Washing Machine                                    [1]\n",
       "Lightning Charging Cable                     [1, 2, 3, 4]\n",
       "Macbook Pro Laptop                                 [1, 2]\n",
       "ThinkPad Laptop                                    [1, 2]\n",
       "USB-C Charging Cable                   [2, 1, 3, 4, 6, 5]\n",
       "Vareebadd Phone                                    [1, 2]\n",
       "Wired Headphones                             [1, 3, 2, 4]\n",
       "iPhone                                             [1, 2]\n",
       "Name: Quantity Ordered, dtype: object"
      ]
     },
     "execution_count": 50,
     "metadata": {},
     "output_type": "execute_result"
    }
   ],
   "source": [
    "# Quantity Ordered for each unique product\n",
    "Sales_data.groupby(['Product'])['Quantity Ordered'].unique()"
   ]
  },
  {
   "cell_type": "code",
   "execution_count": 51,
   "id": "cb7303cf",
   "metadata": {},
   "outputs": [],
   "source": [
    "# Adding State column by extracting city from Purchase Address\n",
    "Sales_data['State'] = Sales_data['Purchase Address'].str.split(',').str[2]"
   ]
  },
  {
   "cell_type": "code",
   "execution_count": 52,
   "id": "69559c4d",
   "metadata": {},
   "outputs": [
    {
     "data": {
      "text/html": [
       "<div>\n",
       "<style scoped>\n",
       "    .dataframe tbody tr th:only-of-type {\n",
       "        vertical-align: middle;\n",
       "    }\n",
       "\n",
       "    .dataframe tbody tr th {\n",
       "        vertical-align: top;\n",
       "    }\n",
       "\n",
       "    .dataframe thead th {\n",
       "        text-align: right;\n",
       "    }\n",
       "</style>\n",
       "<table border=\"1\" class=\"dataframe\">\n",
       "  <thead>\n",
       "    <tr style=\"text-align: right;\">\n",
       "      <th></th>\n",
       "      <th>Order ID</th>\n",
       "      <th>Product</th>\n",
       "      <th>Quantity Ordered</th>\n",
       "      <th>Price Each</th>\n",
       "      <th>Order Date</th>\n",
       "      <th>Purchase Address</th>\n",
       "      <th>Month</th>\n",
       "      <th>Month Name</th>\n",
       "      <th>Sales</th>\n",
       "      <th>Hour</th>\n",
       "      <th>Minute</th>\n",
       "      <th>city</th>\n",
       "      <th>State</th>\n",
       "    </tr>\n",
       "    <tr>\n",
       "      <th>Month Name</th>\n",
       "      <th></th>\n",
       "      <th></th>\n",
       "      <th></th>\n",
       "      <th></th>\n",
       "      <th></th>\n",
       "      <th></th>\n",
       "      <th></th>\n",
       "      <th></th>\n",
       "      <th></th>\n",
       "      <th></th>\n",
       "      <th></th>\n",
       "      <th></th>\n",
       "      <th></th>\n",
       "    </tr>\n",
       "  </thead>\n",
       "  <tbody>\n",
       "    <tr>\n",
       "      <th>Apr</th>\n",
       "      <td>176558</td>\n",
       "      <td>USB-C Charging Cable</td>\n",
       "      <td>2</td>\n",
       "      <td>11.95</td>\n",
       "      <td>2019-04-19 08:46:00</td>\n",
       "      <td>917 1st St, Dallas, TX 75001</td>\n",
       "      <td>4</td>\n",
       "      <td>Apr</td>\n",
       "      <td>23.90</td>\n",
       "      <td>8</td>\n",
       "      <td>46</td>\n",
       "      <td>Dallas</td>\n",
       "      <td>TX 75001</td>\n",
       "    </tr>\n",
       "    <tr>\n",
       "      <th>Apr</th>\n",
       "      <td>176559</td>\n",
       "      <td>Bose SoundSport Headphones</td>\n",
       "      <td>1</td>\n",
       "      <td>99.99</td>\n",
       "      <td>2019-04-07 22:30:00</td>\n",
       "      <td>682 Chestnut St, Boston, MA 02215</td>\n",
       "      <td>4</td>\n",
       "      <td>Apr</td>\n",
       "      <td>99.99</td>\n",
       "      <td>22</td>\n",
       "      <td>30</td>\n",
       "      <td>Boston</td>\n",
       "      <td>MA 02215</td>\n",
       "    </tr>\n",
       "    <tr>\n",
       "      <th>Apr</th>\n",
       "      <td>176560</td>\n",
       "      <td>Google Phone</td>\n",
       "      <td>1</td>\n",
       "      <td>600.00</td>\n",
       "      <td>2019-04-12 14:38:00</td>\n",
       "      <td>669 Spruce St, Los Angeles, CA 90001</td>\n",
       "      <td>4</td>\n",
       "      <td>Apr</td>\n",
       "      <td>600.00</td>\n",
       "      <td>14</td>\n",
       "      <td>38</td>\n",
       "      <td>Los Angeles</td>\n",
       "      <td>CA 90001</td>\n",
       "    </tr>\n",
       "    <tr>\n",
       "      <th>Apr</th>\n",
       "      <td>176560</td>\n",
       "      <td>Wired Headphones</td>\n",
       "      <td>1</td>\n",
       "      <td>11.99</td>\n",
       "      <td>2019-04-12 14:38:00</td>\n",
       "      <td>669 Spruce St, Los Angeles, CA 90001</td>\n",
       "      <td>4</td>\n",
       "      <td>Apr</td>\n",
       "      <td>11.99</td>\n",
       "      <td>14</td>\n",
       "      <td>38</td>\n",
       "      <td>Los Angeles</td>\n",
       "      <td>CA 90001</td>\n",
       "    </tr>\n",
       "    <tr>\n",
       "      <th>Apr</th>\n",
       "      <td>176561</td>\n",
       "      <td>Wired Headphones</td>\n",
       "      <td>1</td>\n",
       "      <td>11.99</td>\n",
       "      <td>2019-04-30 09:27:00</td>\n",
       "      <td>333 8th St, Los Angeles, CA 90001</td>\n",
       "      <td>4</td>\n",
       "      <td>Apr</td>\n",
       "      <td>11.99</td>\n",
       "      <td>9</td>\n",
       "      <td>27</td>\n",
       "      <td>Los Angeles</td>\n",
       "      <td>CA 90001</td>\n",
       "    </tr>\n",
       "  </tbody>\n",
       "</table>\n",
       "</div>"
      ],
      "text/plain": [
       "           Order ID                     Product  Quantity Ordered  Price Each  \\\n",
       "Month Name                                                                      \n",
       "Apr          176558        USB-C Charging Cable                 2       11.95   \n",
       "Apr          176559  Bose SoundSport Headphones                 1       99.99   \n",
       "Apr          176560                Google Phone                 1      600.00   \n",
       "Apr          176560            Wired Headphones                 1       11.99   \n",
       "Apr          176561            Wired Headphones                 1       11.99   \n",
       "\n",
       "                     Order Date                      Purchase Address  Month  \\\n",
       "Month Name                                                                     \n",
       "Apr         2019-04-19 08:46:00          917 1st St, Dallas, TX 75001      4   \n",
       "Apr         2019-04-07 22:30:00     682 Chestnut St, Boston, MA 02215      4   \n",
       "Apr         2019-04-12 14:38:00  669 Spruce St, Los Angeles, CA 90001      4   \n",
       "Apr         2019-04-12 14:38:00  669 Spruce St, Los Angeles, CA 90001      4   \n",
       "Apr         2019-04-30 09:27:00     333 8th St, Los Angeles, CA 90001      4   \n",
       "\n",
       "           Month Name   Sales  Hour  Minute          city      State  \n",
       "Month Name                                                            \n",
       "Apr               Apr   23.90     8      46        Dallas   TX 75001  \n",
       "Apr               Apr   99.99    22      30        Boston   MA 02215  \n",
       "Apr               Apr  600.00    14      38   Los Angeles   CA 90001  \n",
       "Apr               Apr   11.99    14      38   Los Angeles   CA 90001  \n",
       "Apr               Apr   11.99     9      27   Los Angeles   CA 90001  "
      ]
     },
     "execution_count": 52,
     "metadata": {},
     "output_type": "execute_result"
    }
   ],
   "source": [
    "Sales_data.head()"
   ]
  },
  {
   "cell_type": "code",
   "execution_count": 53,
   "id": "68084be3",
   "metadata": {},
   "outputs": [
    {
     "data": {
      "text/plain": [
       "array([' TX 75001', ' MA 02215', ' CA 90001', ' CA 94016', ' WA 98101',\n",
       "       ' GA 30301', ' NY 10001', ' OR 97035', ' TX 73301', ' ME 04101'],\n",
       "      dtype=object)"
      ]
     },
     "execution_count": 53,
     "metadata": {},
     "output_type": "execute_result"
    }
   ],
   "source": [
    "Sales_data['State'].unique()"
   ]
  },
  {
   "cell_type": "code",
   "execution_count": 54,
   "id": "ad46acc1",
   "metadata": {},
   "outputs": [
    {
     "data": {
      "text/plain": [
       "State\n",
       " CA 90001      [ Los Angeles]\n",
       " CA 94016    [ San Francisco]\n",
       " GA 30301          [ Atlanta]\n",
       " MA 02215           [ Boston]\n",
       " ME 04101         [ Portland]\n",
       " NY 10001    [ New York City]\n",
       " OR 97035         [ Portland]\n",
       " TX 73301           [ Austin]\n",
       " TX 75001           [ Dallas]\n",
       " WA 98101          [ Seattle]\n",
       "Name: city, dtype: object"
      ]
     },
     "execution_count": 54,
     "metadata": {},
     "output_type": "execute_result"
    }
   ],
   "source": [
    "# city in each state\n",
    "Sales_data.groupby(['State'])['city'].unique()"
   ]
  },
  {
   "cell_type": "markdown",
   "id": "1ff783fb",
   "metadata": {},
   "source": [
    "### Which Month Generated the highest revenue and how much??"
   ]
  },
  {
   "cell_type": "code",
   "execution_count": 55,
   "id": "38e55c86",
   "metadata": {},
   "outputs": [],
   "source": [
    "highestRevenueMonth = Sales_data.sort_index().groupby(['Month'], sort=True)['Sales'].sum()"
   ]
  },
  {
   "cell_type": "code",
   "execution_count": 56,
   "id": "7f8e933a",
   "metadata": {},
   "outputs": [
    {
     "data": {
      "text/plain": [
       "Text(0.5, 0, 'Month')"
      ]
     },
     "execution_count": 56,
     "metadata": {},
     "output_type": "execute_result"
    },
    {
     "data": {
      "image/png": "[encoded data removed]",
      "text/plain": [
       "<Figure size 640x480 with 1 Axes>"
      ]
     },
     "metadata": {},
     "output_type": "display_data"
    }
   ],
   "source": [
    "months = range(1,13)\n",
    "plt.bar(months, highestRevenueMonth)\n",
    "plt.xticks(months)\n",
    "plt.ylabel(\"Sales\")\n",
    "plt.xlabel(\"Month\")"
   ]
  },
  {
   "cell_type": "markdown",
   "id": "a97b9a64",
   "metadata": {},
   "source": [
    "December yields the highest revenue, totaling $4,603,148.06."
   ]
  },
  {
   "cell_type": "markdown",
   "id": "7471c9c1",
   "metadata": {},
   "source": [
    "### Which city generated the highest revenue and how much?"
   ]
  },
  {
   "cell_type": "code",
   "execution_count": 57,
   "id": "792d15aa",
   "metadata": {},
   "outputs": [],
   "source": [
    "highestRevenueCity = Sales_data.groupby(['city'], sort=True)['Sales'].sum()"
   ]
  },
  {
   "cell_type": "code",
   "execution_count": 58,
   "id": "6950ae1c",
   "metadata": {},
   "outputs": [
    {
     "data": {
      "text/plain": [
       "city\n",
       " Atlanta          2792899.56\n",
       " Austin           1816506.91\n",
       " Boston           3655613.29\n",
       " Dallas           2762772.52\n",
       " Los Angeles      5444037.76\n",
       " New York City    4659416.85\n",
       " Portland         2318173.27\n",
       " San Francisco    8247283.19\n",
       " Seattle          2742336.56\n",
       "Name: Sales, dtype: float64"
      ]
     },
     "execution_count": 58,
     "metadata": {},
     "output_type": "execute_result"
    }
   ],
   "source": [
    "highestRevenueCity"
   ]
  },
  {
   "cell_type": "code",
   "execution_count": 59,
   "id": "195bdf2b",
   "metadata": {},
   "outputs": [
    {
     "data": {
      "text/plain": [
       "Text(0.5, 0, 'City Name')"
      ]
     },
     "execution_count": 59,
     "metadata": {},
     "output_type": "execute_result"
    },
    {
     "data": {
      "image/png": "[encoded data removed]",
      "text/plain": [
       "<Figure size 640x480 with 1 Axes>"
      ]
     },
     "metadata": {},
     "output_type": "display_data"
    }
   ],
   "source": [
    "cities = [city for city, df in Sales_data.groupby('city')]\n",
    "plt.bar(cities, highestRevenueCity)\n",
    "plt.xticks(cities, rotation=\"vertical\", size=8)\n",
    "plt.ylabel(\"Sales\")\n",
    "plt.xlabel(\"City Name\")"
   ]
  },
  {
   "cell_type": "markdown",
   "id": "724a567a",
   "metadata": {},
   "source": [
    "San Francisco generated the highest revenue of total $8,247,283.19"
   ]
  },
  {
   "cell_type": "markdown",
   "id": "bcb7a15a",
   "metadata": {},
   "source": [
    "### Which State generated the highest revenue and how much?"
   ]
  },
  {
   "cell_type": "code",
   "execution_count": 60,
   "id": "7214782f",
   "metadata": {},
   "outputs": [],
   "source": [
    "highestRevenueState = Sales_data.groupby(['State'], sort=True)['Sales'].sum()"
   ]
  },
  {
   "cell_type": "code",
   "execution_count": 61,
   "id": "9917991d",
   "metadata": {},
   "outputs": [
    {
     "data": {
      "text/plain": [
       "State\n",
       " CA 90001    5444037.76\n",
       " CA 94016    8247283.19\n",
       " GA 30301    2792899.56\n",
       " MA 02215    3655613.29\n",
       " ME 04101     448884.49\n",
       " NY 10001    4659416.85\n",
       " OR 97035    1869288.78\n",
       " TX 73301    1816506.91\n",
       " TX 75001    2762772.52\n",
       " WA 98101    2742336.56\n",
       "Name: Sales, dtype: float64"
      ]
     },
     "execution_count": 61,
     "metadata": {},
     "output_type": "execute_result"
    }
   ],
   "source": [
    "highestRevenueState"
   ]
  },
  {
   "cell_type": "code",
   "execution_count": 62,
   "id": "f6f73ea0",
   "metadata": {},
   "outputs": [
    {
     "data": {
      "text/plain": [
       "Text(0.5, 0, 'State')"
      ]
     },
     "execution_count": 62,
     "metadata": {},
     "output_type": "execute_result"
    },
    {
     "data": {
      "image/png": "[encoded data removed]",
      "text/plain": [
       "<Figure size 640x480 with 1 Axes>"
      ]
     },
     "metadata": {},
     "output_type": "display_data"
    }
   ],
   "source": [
    "states = [state for state, df in Sales_data.groupby('State')]\n",
    "plt.bar(states, highestRevenueState)\n",
    "plt.xticks(states, rotation=\"vertical\", size=8)\n",
    "plt.ylabel(\"Sales\")\n",
    "plt.xlabel(\"State\")"
   ]
  },
  {
   "cell_type": "markdown",
   "id": "0dc399ee",
   "metadata": {},
   "source": [
    "The state with the highest revenue generation is CA 94016, with San Francisco city located within it."
   ]
  },
  {
   "cell_type": "markdown",
   "id": "77e798e5",
   "metadata": {},
   "source": [
    "### What time should we display advertisements to maximize liklihood of customer's buying product?"
   ]
  },
  {
   "cell_type": "code",
   "execution_count": 63,
   "id": "46d21d5a",
   "metadata": {},
   "outputs": [
    {
     "data": {
      "image/png": "[encoded data removed]",
      "text/plain": [
       "<Figure size 640x480 with 1 Axes>"
      ]
     },
     "metadata": {},
     "output_type": "display_data"
    }
   ],
   "source": [
    "hours = [hour for hour, df in Sales_data.groupby('Hour')]\n",
    "\n",
    "plt.plot(hours, Sales_data.groupby(['Hour']).count())\n",
    "plt.xticks(hours)\n",
    "plt.grid()\n",
    "plt.show()"
   ]
  },
  {
   "cell_type": "markdown",
   "id": "7d6fd923",
   "metadata": {},
   "source": [
    "At the peak time of 11am and 7pm is the best timing to display advertisements to maximize liklihood of customer's buying the product"
   ]
  },
  {
   "cell_type": "markdown",
   "id": "5abfb19d",
   "metadata": {},
   "source": [
    "### What products are most often sold together? "
   ]
  },
  {
   "cell_type": "code",
   "execution_count": 64,
   "id": "e05ea336",
   "metadata": {},
   "outputs": [],
   "source": [
    "df = Sales_data[Sales_data['Order ID'].duplicated(keep=False)]"
   ]
  },
  {
   "cell_type": "code",
   "execution_count": 65,
   "id": "cc7472da",
   "metadata": {},
   "outputs": [
    {
     "data": {
      "text/html": [
       "<div>\n",
       "<style scoped>\n",
       "    .dataframe tbody tr th:only-of-type {\n",
       "        vertical-align: middle;\n",
       "    }\n",
       "\n",
       "    .dataframe tbody tr th {\n",
       "        vertical-align: top;\n",
       "    }\n",
       "\n",
       "    .dataframe thead th {\n",
       "        text-align: right;\n",
       "    }\n",
       "</style>\n",
       "<table border=\"1\" class=\"dataframe\">\n",
       "  <thead>\n",
       "    <tr style=\"text-align: right;\">\n",
       "      <th></th>\n",
       "      <th>Order ID</th>\n",
       "      <th>Product</th>\n",
       "      <th>Quantity Ordered</th>\n",
       "      <th>Price Each</th>\n",
       "      <th>Order Date</th>\n",
       "      <th>Purchase Address</th>\n",
       "      <th>Month</th>\n",
       "      <th>Month Name</th>\n",
       "      <th>Sales</th>\n",
       "      <th>Hour</th>\n",
       "      <th>Minute</th>\n",
       "      <th>city</th>\n",
       "      <th>State</th>\n",
       "    </tr>\n",
       "    <tr>\n",
       "      <th>Month Name</th>\n",
       "      <th></th>\n",
       "      <th></th>\n",
       "      <th></th>\n",
       "      <th></th>\n",
       "      <th></th>\n",
       "      <th></th>\n",
       "      <th></th>\n",
       "      <th></th>\n",
       "      <th></th>\n",
       "      <th></th>\n",
       "      <th></th>\n",
       "      <th></th>\n",
       "      <th></th>\n",
       "    </tr>\n",
       "  </thead>\n",
       "  <tbody>\n",
       "    <tr>\n",
       "      <th>Apr</th>\n",
       "      <td>176560</td>\n",
       "      <td>Google Phone</td>\n",
       "      <td>1</td>\n",
       "      <td>600.00</td>\n",
       "      <td>2019-04-12 14:38:00</td>\n",
       "      <td>669 Spruce St, Los Angeles, CA 90001</td>\n",
       "      <td>4</td>\n",
       "      <td>Apr</td>\n",
       "      <td>600.00</td>\n",
       "      <td>14</td>\n",
       "      <td>38</td>\n",
       "      <td>Los Angeles</td>\n",
       "      <td>CA 90001</td>\n",
       "    </tr>\n",
       "    <tr>\n",
       "      <th>Apr</th>\n",
       "      <td>176560</td>\n",
       "      <td>Wired Headphones</td>\n",
       "      <td>1</td>\n",
       "      <td>11.99</td>\n",
       "      <td>2019-04-12 14:38:00</td>\n",
       "      <td>669 Spruce St, Los Angeles, CA 90001</td>\n",
       "      <td>4</td>\n",
       "      <td>Apr</td>\n",
       "      <td>11.99</td>\n",
       "      <td>14</td>\n",
       "      <td>38</td>\n",
       "      <td>Los Angeles</td>\n",
       "      <td>CA 90001</td>\n",
       "    </tr>\n",
       "    <tr>\n",
       "      <th>Apr</th>\n",
       "      <td>176574</td>\n",
       "      <td>Google Phone</td>\n",
       "      <td>1</td>\n",
       "      <td>600.00</td>\n",
       "      <td>2019-04-03 19:42:00</td>\n",
       "      <td>20 Hill St, Los Angeles, CA 90001</td>\n",
       "      <td>4</td>\n",
       "      <td>Apr</td>\n",
       "      <td>600.00</td>\n",
       "      <td>19</td>\n",
       "      <td>42</td>\n",
       "      <td>Los Angeles</td>\n",
       "      <td>CA 90001</td>\n",
       "    </tr>\n",
       "    <tr>\n",
       "      <th>Apr</th>\n",
       "      <td>176574</td>\n",
       "      <td>USB-C Charging Cable</td>\n",
       "      <td>1</td>\n",
       "      <td>11.95</td>\n",
       "      <td>2019-04-03 19:42:00</td>\n",
       "      <td>20 Hill St, Los Angeles, CA 90001</td>\n",
       "      <td>4</td>\n",
       "      <td>Apr</td>\n",
       "      <td>11.95</td>\n",
       "      <td>19</td>\n",
       "      <td>42</td>\n",
       "      <td>Los Angeles</td>\n",
       "      <td>CA 90001</td>\n",
       "    </tr>\n",
       "    <tr>\n",
       "      <th>Apr</th>\n",
       "      <td>176586</td>\n",
       "      <td>AAA Batteries (4-pack)</td>\n",
       "      <td>2</td>\n",
       "      <td>2.99</td>\n",
       "      <td>2019-04-10 17:00:00</td>\n",
       "      <td>365 Center St, San Francisco, CA 94016</td>\n",
       "      <td>4</td>\n",
       "      <td>Apr</td>\n",
       "      <td>5.98</td>\n",
       "      <td>17</td>\n",
       "      <td>0</td>\n",
       "      <td>San Francisco</td>\n",
       "      <td>CA 94016</td>\n",
       "    </tr>\n",
       "    <tr>\n",
       "      <th>Apr</th>\n",
       "      <td>176586</td>\n",
       "      <td>Google Phone</td>\n",
       "      <td>1</td>\n",
       "      <td>600.00</td>\n",
       "      <td>2019-04-10 17:00:00</td>\n",
       "      <td>365 Center St, San Francisco, CA 94016</td>\n",
       "      <td>4</td>\n",
       "      <td>Apr</td>\n",
       "      <td>600.00</td>\n",
       "      <td>17</td>\n",
       "      <td>0</td>\n",
       "      <td>San Francisco</td>\n",
       "      <td>CA 94016</td>\n",
       "    </tr>\n",
       "    <tr>\n",
       "      <th>Apr</th>\n",
       "      <td>176672</td>\n",
       "      <td>Lightning Charging Cable</td>\n",
       "      <td>1</td>\n",
       "      <td>14.95</td>\n",
       "      <td>2019-04-12 11:07:00</td>\n",
       "      <td>778 Maple St, New York City, NY 10001</td>\n",
       "      <td>4</td>\n",
       "      <td>Apr</td>\n",
       "      <td>14.95</td>\n",
       "      <td>11</td>\n",
       "      <td>7</td>\n",
       "      <td>New York City</td>\n",
       "      <td>NY 10001</td>\n",
       "    </tr>\n",
       "    <tr>\n",
       "      <th>Apr</th>\n",
       "      <td>176672</td>\n",
       "      <td>USB-C Charging Cable</td>\n",
       "      <td>1</td>\n",
       "      <td>11.95</td>\n",
       "      <td>2019-04-12 11:07:00</td>\n",
       "      <td>778 Maple St, New York City, NY 10001</td>\n",
       "      <td>4</td>\n",
       "      <td>Apr</td>\n",
       "      <td>11.95</td>\n",
       "      <td>11</td>\n",
       "      <td>7</td>\n",
       "      <td>New York City</td>\n",
       "      <td>NY 10001</td>\n",
       "    </tr>\n",
       "    <tr>\n",
       "      <th>Apr</th>\n",
       "      <td>176681</td>\n",
       "      <td>Apple Airpods Headphones</td>\n",
       "      <td>1</td>\n",
       "      <td>150.00</td>\n",
       "      <td>2019-04-20 10:39:00</td>\n",
       "      <td>331 Cherry St, Seattle, WA 98101</td>\n",
       "      <td>4</td>\n",
       "      <td>Apr</td>\n",
       "      <td>150.00</td>\n",
       "      <td>10</td>\n",
       "      <td>39</td>\n",
       "      <td>Seattle</td>\n",
       "      <td>WA 98101</td>\n",
       "    </tr>\n",
       "    <tr>\n",
       "      <th>Apr</th>\n",
       "      <td>176681</td>\n",
       "      <td>ThinkPad Laptop</td>\n",
       "      <td>1</td>\n",
       "      <td>999.99</td>\n",
       "      <td>2019-04-20 10:39:00</td>\n",
       "      <td>331 Cherry St, Seattle, WA 98101</td>\n",
       "      <td>4</td>\n",
       "      <td>Apr</td>\n",
       "      <td>999.99</td>\n",
       "      <td>10</td>\n",
       "      <td>39</td>\n",
       "      <td>Seattle</td>\n",
       "      <td>WA 98101</td>\n",
       "    </tr>\n",
       "    <tr>\n",
       "      <th>Apr</th>\n",
       "      <td>176689</td>\n",
       "      <td>Bose SoundSport Headphones</td>\n",
       "      <td>1</td>\n",
       "      <td>99.99</td>\n",
       "      <td>2019-04-24 17:15:00</td>\n",
       "      <td>659 Lincoln St, New York City, NY 10001</td>\n",
       "      <td>4</td>\n",
       "      <td>Apr</td>\n",
       "      <td>99.99</td>\n",
       "      <td>17</td>\n",
       "      <td>15</td>\n",
       "      <td>New York City</td>\n",
       "      <td>NY 10001</td>\n",
       "    </tr>\n",
       "    <tr>\n",
       "      <th>Apr</th>\n",
       "      <td>176689</td>\n",
       "      <td>AAA Batteries (4-pack)</td>\n",
       "      <td>2</td>\n",
       "      <td>2.99</td>\n",
       "      <td>2019-04-24 17:15:00</td>\n",
       "      <td>659 Lincoln St, New York City, NY 10001</td>\n",
       "      <td>4</td>\n",
       "      <td>Apr</td>\n",
       "      <td>5.98</td>\n",
       "      <td>17</td>\n",
       "      <td>15</td>\n",
       "      <td>New York City</td>\n",
       "      <td>NY 10001</td>\n",
       "    </tr>\n",
       "    <tr>\n",
       "      <th>Apr</th>\n",
       "      <td>176739</td>\n",
       "      <td>34in Ultrawide Monitor</td>\n",
       "      <td>1</td>\n",
       "      <td>379.99</td>\n",
       "      <td>2019-04-05 17:38:00</td>\n",
       "      <td>730 6th St, Austin, TX 73301</td>\n",
       "      <td>4</td>\n",
       "      <td>Apr</td>\n",
       "      <td>379.99</td>\n",
       "      <td>17</td>\n",
       "      <td>38</td>\n",
       "      <td>Austin</td>\n",
       "      <td>TX 73301</td>\n",
       "    </tr>\n",
       "    <tr>\n",
       "      <th>Apr</th>\n",
       "      <td>176739</td>\n",
       "      <td>Google Phone</td>\n",
       "      <td>1</td>\n",
       "      <td>600.00</td>\n",
       "      <td>2019-04-05 17:38:00</td>\n",
       "      <td>730 6th St, Austin, TX 73301</td>\n",
       "      <td>4</td>\n",
       "      <td>Apr</td>\n",
       "      <td>600.00</td>\n",
       "      <td>17</td>\n",
       "      <td>38</td>\n",
       "      <td>Austin</td>\n",
       "      <td>TX 73301</td>\n",
       "    </tr>\n",
       "    <tr>\n",
       "      <th>Apr</th>\n",
       "      <td>176774</td>\n",
       "      <td>Lightning Charging Cable</td>\n",
       "      <td>1</td>\n",
       "      <td>14.95</td>\n",
       "      <td>2019-04-25 15:06:00</td>\n",
       "      <td>372 Church St, Los Angeles, CA 90001</td>\n",
       "      <td>4</td>\n",
       "      <td>Apr</td>\n",
       "      <td>14.95</td>\n",
       "      <td>15</td>\n",
       "      <td>6</td>\n",
       "      <td>Los Angeles</td>\n",
       "      <td>CA 90001</td>\n",
       "    </tr>\n",
       "    <tr>\n",
       "      <th>Apr</th>\n",
       "      <td>176774</td>\n",
       "      <td>USB-C Charging Cable</td>\n",
       "      <td>1</td>\n",
       "      <td>11.95</td>\n",
       "      <td>2019-04-25 15:06:00</td>\n",
       "      <td>372 Church St, Los Angeles, CA 90001</td>\n",
       "      <td>4</td>\n",
       "      <td>Apr</td>\n",
       "      <td>11.95</td>\n",
       "      <td>15</td>\n",
       "      <td>6</td>\n",
       "      <td>Los Angeles</td>\n",
       "      <td>CA 90001</td>\n",
       "    </tr>\n",
       "    <tr>\n",
       "      <th>Apr</th>\n",
       "      <td>176781</td>\n",
       "      <td>iPhone</td>\n",
       "      <td>1</td>\n",
       "      <td>700.00</td>\n",
       "      <td>2019-04-03 07:37:00</td>\n",
       "      <td>976 Hickory St, Dallas, TX 75001</td>\n",
       "      <td>4</td>\n",
       "      <td>Apr</td>\n",
       "      <td>700.00</td>\n",
       "      <td>7</td>\n",
       "      <td>37</td>\n",
       "      <td>Dallas</td>\n",
       "      <td>TX 75001</td>\n",
       "    </tr>\n",
       "    <tr>\n",
       "      <th>Apr</th>\n",
       "      <td>176781</td>\n",
       "      <td>Lightning Charging Cable</td>\n",
       "      <td>1</td>\n",
       "      <td>14.95</td>\n",
       "      <td>2019-04-03 07:37:00</td>\n",
       "      <td>976 Hickory St, Dallas, TX 75001</td>\n",
       "      <td>4</td>\n",
       "      <td>Apr</td>\n",
       "      <td>14.95</td>\n",
       "      <td>7</td>\n",
       "      <td>37</td>\n",
       "      <td>Dallas</td>\n",
       "      <td>TX 75001</td>\n",
       "    </tr>\n",
       "    <tr>\n",
       "      <th>Apr</th>\n",
       "      <td>176797</td>\n",
       "      <td>Google Phone</td>\n",
       "      <td>1</td>\n",
       "      <td>600.00</td>\n",
       "      <td>2019-04-21 08:54:00</td>\n",
       "      <td>923 Elm St, Los Angeles, CA 90001</td>\n",
       "      <td>4</td>\n",
       "      <td>Apr</td>\n",
       "      <td>600.00</td>\n",
       "      <td>8</td>\n",
       "      <td>54</td>\n",
       "      <td>Los Angeles</td>\n",
       "      <td>CA 90001</td>\n",
       "    </tr>\n",
       "    <tr>\n",
       "      <th>Apr</th>\n",
       "      <td>176797</td>\n",
       "      <td>Bose SoundSport Headphones</td>\n",
       "      <td>1</td>\n",
       "      <td>99.99</td>\n",
       "      <td>2019-04-21 08:54:00</td>\n",
       "      <td>923 Elm St, Los Angeles, CA 90001</td>\n",
       "      <td>4</td>\n",
       "      <td>Apr</td>\n",
       "      <td>99.99</td>\n",
       "      <td>8</td>\n",
       "      <td>54</td>\n",
       "      <td>Los Angeles</td>\n",
       "      <td>CA 90001</td>\n",
       "    </tr>\n",
       "    <tr>\n",
       "      <th>Apr</th>\n",
       "      <td>176797</td>\n",
       "      <td>Wired Headphones</td>\n",
       "      <td>1</td>\n",
       "      <td>11.99</td>\n",
       "      <td>2019-04-21 08:54:00</td>\n",
       "      <td>923 Elm St, Los Angeles, CA 90001</td>\n",
       "      <td>4</td>\n",
       "      <td>Apr</td>\n",
       "      <td>11.99</td>\n",
       "      <td>8</td>\n",
       "      <td>54</td>\n",
       "      <td>Los Angeles</td>\n",
       "      <td>CA 90001</td>\n",
       "    </tr>\n",
       "    <tr>\n",
       "      <th>Apr</th>\n",
       "      <td>176805</td>\n",
       "      <td>Google Phone</td>\n",
       "      <td>1</td>\n",
       "      <td>600.00</td>\n",
       "      <td>2019-04-01 15:50:00</td>\n",
       "      <td>91 Lincoln St, Portland, OR 97035</td>\n",
       "      <td>4</td>\n",
       "      <td>Apr</td>\n",
       "      <td>600.00</td>\n",
       "      <td>15</td>\n",
       "      <td>50</td>\n",
       "      <td>Portland</td>\n",
       "      <td>OR 97035</td>\n",
       "    </tr>\n",
       "    <tr>\n",
       "      <th>Apr</th>\n",
       "      <td>176805</td>\n",
       "      <td>USB-C Charging Cable</td>\n",
       "      <td>1</td>\n",
       "      <td>11.95</td>\n",
       "      <td>2019-04-01 15:50:00</td>\n",
       "      <td>91 Lincoln St, Portland, OR 97035</td>\n",
       "      <td>4</td>\n",
       "      <td>Apr</td>\n",
       "      <td>11.95</td>\n",
       "      <td>15</td>\n",
       "      <td>50</td>\n",
       "      <td>Portland</td>\n",
       "      <td>OR 97035</td>\n",
       "    </tr>\n",
       "    <tr>\n",
       "      <th>Apr</th>\n",
       "      <td>176808</td>\n",
       "      <td>Google Phone</td>\n",
       "      <td>1</td>\n",
       "      <td>600.00</td>\n",
       "      <td>2019-04-28 18:03:00</td>\n",
       "      <td>933 Meadow St, San Francisco, CA 94016</td>\n",
       "      <td>4</td>\n",
       "      <td>Apr</td>\n",
       "      <td>600.00</td>\n",
       "      <td>18</td>\n",
       "      <td>3</td>\n",
       "      <td>San Francisco</td>\n",
       "      <td>CA 94016</td>\n",
       "    </tr>\n",
       "    <tr>\n",
       "      <th>Apr</th>\n",
       "      <td>176808</td>\n",
       "      <td>Wired Headphones</td>\n",
       "      <td>1</td>\n",
       "      <td>11.99</td>\n",
       "      <td>2019-04-28 18:03:00</td>\n",
       "      <td>933 Meadow St, San Francisco, CA 94016</td>\n",
       "      <td>4</td>\n",
       "      <td>Apr</td>\n",
       "      <td>11.99</td>\n",
       "      <td>18</td>\n",
       "      <td>3</td>\n",
       "      <td>San Francisco</td>\n",
       "      <td>CA 94016</td>\n",
       "    </tr>\n",
       "    <tr>\n",
       "      <th>Apr</th>\n",
       "      <td>176813</td>\n",
       "      <td>Google Phone</td>\n",
       "      <td>1</td>\n",
       "      <td>600.00</td>\n",
       "      <td>2019-04-28 18:01:00</td>\n",
       "      <td>269 Hill St, Atlanta, GA 30301</td>\n",
       "      <td>4</td>\n",
       "      <td>Apr</td>\n",
       "      <td>600.00</td>\n",
       "      <td>18</td>\n",
       "      <td>1</td>\n",
       "      <td>Atlanta</td>\n",
       "      <td>GA 30301</td>\n",
       "    </tr>\n",
       "    <tr>\n",
       "      <th>Apr</th>\n",
       "      <td>176813</td>\n",
       "      <td>Wired Headphones</td>\n",
       "      <td>1</td>\n",
       "      <td>11.99</td>\n",
       "      <td>2019-04-28 18:01:00</td>\n",
       "      <td>269 Hill St, Atlanta, GA 30301</td>\n",
       "      <td>4</td>\n",
       "      <td>Apr</td>\n",
       "      <td>11.99</td>\n",
       "      <td>18</td>\n",
       "      <td>1</td>\n",
       "      <td>Atlanta</td>\n",
       "      <td>GA 30301</td>\n",
       "    </tr>\n",
       "    <tr>\n",
       "      <th>Apr</th>\n",
       "      <td>176935</td>\n",
       "      <td>AAA Batteries (4-pack)</td>\n",
       "      <td>1</td>\n",
       "      <td>2.99</td>\n",
       "      <td>2019-04-03 21:31:00</td>\n",
       "      <td>315 1st St, Dallas, TX 75001</td>\n",
       "      <td>4</td>\n",
       "      <td>Apr</td>\n",
       "      <td>2.99</td>\n",
       "      <td>21</td>\n",
       "      <td>31</td>\n",
       "      <td>Dallas</td>\n",
       "      <td>TX 75001</td>\n",
       "    </tr>\n",
       "    <tr>\n",
       "      <th>Apr</th>\n",
       "      <td>176935</td>\n",
       "      <td>27in FHD Monitor</td>\n",
       "      <td>1</td>\n",
       "      <td>149.99</td>\n",
       "      <td>2019-04-03 21:31:00</td>\n",
       "      <td>315 1st St, Dallas, TX 75001</td>\n",
       "      <td>4</td>\n",
       "      <td>Apr</td>\n",
       "      <td>149.99</td>\n",
       "      <td>21</td>\n",
       "      <td>31</td>\n",
       "      <td>Dallas</td>\n",
       "      <td>TX 75001</td>\n",
       "    </tr>\n",
       "    <tr>\n",
       "      <th>Apr</th>\n",
       "      <td>176975</td>\n",
       "      <td>USB-C Charging Cable</td>\n",
       "      <td>1</td>\n",
       "      <td>11.95</td>\n",
       "      <td>2019-04-23 15:46:00</td>\n",
       "      <td>28 13th St, San Francisco, CA 94016</td>\n",
       "      <td>4</td>\n",
       "      <td>Apr</td>\n",
       "      <td>11.95</td>\n",
       "      <td>15</td>\n",
       "      <td>46</td>\n",
       "      <td>San Francisco</td>\n",
       "      <td>CA 94016</td>\n",
       "    </tr>\n",
       "  </tbody>\n",
       "</table>\n",
       "</div>"
      ],
      "text/plain": [
       "           Order ID                     Product  Quantity Ordered  Price Each  \\\n",
       "Month Name                                                                      \n",
       "Apr          176560                Google Phone                 1      600.00   \n",
       "Apr          176560            Wired Headphones                 1       11.99   \n",
       "Apr          176574                Google Phone                 1      600.00   \n",
       "Apr          176574        USB-C Charging Cable                 1       11.95   \n",
       "Apr          176586      AAA Batteries (4-pack)                 2        2.99   \n",
       "Apr          176586                Google Phone                 1      600.00   \n",
       "Apr          176672    Lightning Charging Cable                 1       14.95   \n",
       "Apr          176672        USB-C Charging Cable                 1       11.95   \n",
       "Apr          176681    Apple Airpods Headphones                 1      150.00   \n",
       "Apr          176681             ThinkPad Laptop                 1      999.99   \n",
       "Apr          176689  Bose SoundSport Headphones                 1       99.99   \n",
       "Apr          176689      AAA Batteries (4-pack)                 2        2.99   \n",
       "Apr          176739      34in Ultrawide Monitor                 1      379.99   \n",
       "Apr          176739                Google Phone                 1      600.00   \n",
       "Apr          176774    Lightning Charging Cable                 1       14.95   \n",
       "Apr          176774        USB-C Charging Cable                 1       11.95   \n",
       "Apr          176781                      iPhone                 1      700.00   \n",
       "Apr          176781    Lightning Charging Cable                 1       14.95   \n",
       "Apr          176797                Google Phone                 1      600.00   \n",
       "Apr          176797  Bose SoundSport Headphones                 1       99.99   \n",
       "Apr          176797            Wired Headphones                 1       11.99   \n",
       "Apr          176805                Google Phone                 1      600.00   \n",
       "Apr          176805        USB-C Charging Cable                 1       11.95   \n",
       "Apr          176808                Google Phone                 1      600.00   \n",
       "Apr          176808            Wired Headphones                 1       11.99   \n",
       "Apr          176813                Google Phone                 1      600.00   \n",
       "Apr          176813            Wired Headphones                 1       11.99   \n",
       "Apr          176935      AAA Batteries (4-pack)                 1        2.99   \n",
       "Apr          176935            27in FHD Monitor                 1      149.99   \n",
       "Apr          176975        USB-C Charging Cable                 1       11.95   \n",
       "\n",
       "                     Order Date                         Purchase Address  \\\n",
       "Month Name                                                                 \n",
       "Apr         2019-04-12 14:38:00     669 Spruce St, Los Angeles, CA 90001   \n",
       "Apr         2019-04-12 14:38:00     669 Spruce St, Los Angeles, CA 90001   \n",
       "Apr         2019-04-03 19:42:00        20 Hill St, Los Angeles, CA 90001   \n",
       "Apr         2019-04-03 19:42:00        20 Hill St, Los Angeles, CA 90001   \n",
       "Apr         2019-04-10 17:00:00   365 Center St, San Francisco, CA 94016   \n",
       "Apr         2019-04-10 17:00:00   365 Center St, San Francisco, CA 94016   \n",
       "Apr         2019-04-12 11:07:00    778 Maple St, New York City, NY 10001   \n",
       "Apr         2019-04-12 11:07:00    778 Maple St, New York City, NY 10001   \n",
       "Apr         2019-04-20 10:39:00         331 Cherry St, Seattle, WA 98101   \n",
       "Apr         2019-04-20 10:39:00         331 Cherry St, Seattle, WA 98101   \n",
       "Apr         2019-04-24 17:15:00  659 Lincoln St, New York City, NY 10001   \n",
       "Apr         2019-04-24 17:15:00  659 Lincoln St, New York City, NY 10001   \n",
       "Apr         2019-04-05 17:38:00             730 6th St, Austin, TX 73301   \n",
       "Apr         2019-04-05 17:38:00             730 6th St, Austin, TX 73301   \n",
       "Apr         2019-04-25 15:06:00     372 Church St, Los Angeles, CA 90001   \n",
       "Apr         2019-04-25 15:06:00     372 Church St, Los Angeles, CA 90001   \n",
       "Apr         2019-04-03 07:37:00         976 Hickory St, Dallas, TX 75001   \n",
       "Apr         2019-04-03 07:37:00         976 Hickory St, Dallas, TX 75001   \n",
       "Apr         2019-04-21 08:54:00        923 Elm St, Los Angeles, CA 90001   \n",
       "Apr         2019-04-21 08:54:00        923 Elm St, Los Angeles, CA 90001   \n",
       "Apr         2019-04-21 08:54:00        923 Elm St, Los Angeles, CA 90001   \n",
       "Apr         2019-04-01 15:50:00        91 Lincoln St, Portland, OR 97035   \n",
       "Apr         2019-04-01 15:50:00        91 Lincoln St, Portland, OR 97035   \n",
       "Apr         2019-04-28 18:03:00   933 Meadow St, San Francisco, CA 94016   \n",
       "Apr         2019-04-28 18:03:00   933 Meadow St, San Francisco, CA 94016   \n",
       "Apr         2019-04-28 18:01:00           269 Hill St, Atlanta, GA 30301   \n",
       "Apr         2019-04-28 18:01:00           269 Hill St, Atlanta, GA 30301   \n",
       "Apr         2019-04-03 21:31:00             315 1st St, Dallas, TX 75001   \n",
       "Apr         2019-04-03 21:31:00             315 1st St, Dallas, TX 75001   \n",
       "Apr         2019-04-23 15:46:00      28 13th St, San Francisco, CA 94016   \n",
       "\n",
       "            Month Month Name   Sales  Hour  Minute            city      State  \n",
       "Month Name                                                                     \n",
       "Apr             4        Apr  600.00    14      38     Los Angeles   CA 90001  \n",
       "Apr             4        Apr   11.99    14      38     Los Angeles   CA 90001  \n",
       "Apr             4        Apr  600.00    19      42     Los Angeles   CA 90001  \n",
       "Apr             4        Apr   11.95    19      42     Los Angeles   CA 90001  \n",
       "Apr             4        Apr    5.98    17       0   San Francisco   CA 94016  \n",
       "Apr             4        Apr  600.00    17       0   San Francisco   CA 94016  \n",
       "Apr             4        Apr   14.95    11       7   New York City   NY 10001  \n",
       "Apr             4        Apr   11.95    11       7   New York City   NY 10001  \n",
       "Apr             4        Apr  150.00    10      39         Seattle   WA 98101  \n",
       "Apr             4        Apr  999.99    10      39         Seattle   WA 98101  \n",
       "Apr             4        Apr   99.99    17      15   New York City   NY 10001  \n",
       "Apr             4        Apr    5.98    17      15   New York City   NY 10001  \n",
       "Apr             4        Apr  379.99    17      38          Austin   TX 73301  \n",
       "Apr             4        Apr  600.00    17      38          Austin   TX 73301  \n",
       "Apr             4        Apr   14.95    15       6     Los Angeles   CA 90001  \n",
       "Apr             4        Apr   11.95    15       6     Los Angeles   CA 90001  \n",
       "Apr             4        Apr  700.00     7      37          Dallas   TX 75001  \n",
       "Apr             4        Apr   14.95     7      37          Dallas   TX 75001  \n",
       "Apr             4        Apr  600.00     8      54     Los Angeles   CA 90001  \n",
       "Apr             4        Apr   99.99     8      54     Los Angeles   CA 90001  \n",
       "Apr             4        Apr   11.99     8      54     Los Angeles   CA 90001  \n",
       "Apr             4        Apr  600.00    15      50        Portland   OR 97035  \n",
       "Apr             4        Apr   11.95    15      50        Portland   OR 97035  \n",
       "Apr             4        Apr  600.00    18       3   San Francisco   CA 94016  \n",
       "Apr             4        Apr   11.99    18       3   San Francisco   CA 94016  \n",
       "Apr             4        Apr  600.00    18       1         Atlanta   GA 30301  \n",
       "Apr             4        Apr   11.99    18       1         Atlanta   GA 30301  \n",
       "Apr             4        Apr    2.99    21      31          Dallas   TX 75001  \n",
       "Apr             4        Apr  149.99    21      31          Dallas   TX 75001  \n",
       "Apr             4        Apr   11.95    15      46   San Francisco   CA 94016  "
      ]
     },
     "execution_count": 65,
     "metadata": {},
     "output_type": "execute_result"
    }
   ],
   "source": [
    "df.head(30)"
   ]
  },
  {
   "cell_type": "code",
   "execution_count": 66,
   "id": "43d56d3b",
   "metadata": {},
   "outputs": [
    {
     "data": {
      "text/html": [
       "<div>\n",
       "<style scoped>\n",
       "    .dataframe tbody tr th:only-of-type {\n",
       "        vertical-align: middle;\n",
       "    }\n",
       "\n",
       "    .dataframe tbody tr th {\n",
       "        vertical-align: top;\n",
       "    }\n",
       "\n",
       "    .dataframe thead th {\n",
       "        text-align: right;\n",
       "    }\n",
       "</style>\n",
       "<table border=\"1\" class=\"dataframe\">\n",
       "  <thead>\n",
       "    <tr style=\"text-align: right;\">\n",
       "      <th></th>\n",
       "      <th>Order ID</th>\n",
       "      <th>Grouped</th>\n",
       "    </tr>\n",
       "    <tr>\n",
       "      <th>Month Name</th>\n",
       "      <th></th>\n",
       "      <th></th>\n",
       "    </tr>\n",
       "  </thead>\n",
       "  <tbody>\n",
       "    <tr>\n",
       "      <th>Apr</th>\n",
       "      <td>176560</td>\n",
       "      <td>Google Phone,Wired Headphones</td>\n",
       "    </tr>\n",
       "    <tr>\n",
       "      <th>Apr</th>\n",
       "      <td>176574</td>\n",
       "      <td>Google Phone,USB-C Charging Cable</td>\n",
       "    </tr>\n",
       "    <tr>\n",
       "      <th>Apr</th>\n",
       "      <td>176586</td>\n",
       "      <td>AAA Batteries (4-pack),Google Phone</td>\n",
       "    </tr>\n",
       "    <tr>\n",
       "      <th>Apr</th>\n",
       "      <td>176672</td>\n",
       "      <td>Lightning Charging Cable,USB-C Charging Cable</td>\n",
       "    </tr>\n",
       "    <tr>\n",
       "      <th>Apr</th>\n",
       "      <td>176681</td>\n",
       "      <td>Apple Airpods Headphones,ThinkPad Laptop</td>\n",
       "    </tr>\n",
       "  </tbody>\n",
       "</table>\n",
       "</div>"
      ],
      "text/plain": [
       "           Order ID                                        Grouped\n",
       "Month Name                                                        \n",
       "Apr          176560                  Google Phone,Wired Headphones\n",
       "Apr          176574              Google Phone,USB-C Charging Cable\n",
       "Apr          176586            AAA Batteries (4-pack),Google Phone\n",
       "Apr          176672  Lightning Charging Cable,USB-C Charging Cable\n",
       "Apr          176681       Apple Airpods Headphones,ThinkPad Laptop"
      ]
     },
     "execution_count": 66,
     "metadata": {},
     "output_type": "execute_result"
    }
   ],
   "source": [
    "df['Grouped'] = df.groupby('Order ID')['Product'].transform(lambda x: ','.join(x))\n",
    "df.head()\n",
    "df = df[['Order ID', 'Grouped']].drop_duplicates()\n",
    "df.head()"
   ]
  },
  {
   "cell_type": "code",
   "execution_count": 67,
   "id": "b806bb2a",
   "metadata": {},
   "outputs": [
    {
     "name": "stdout",
     "output_type": "stream",
     "text": [
      "('Google Phone', 'USB-C Charging Cable', 'Wired Headphones') 84\n",
      "('iPhone', 'Lightning Charging Cable', 'Wired Headphones') 62\n",
      "('iPhone', 'Lightning Charging Cable', 'Apple Airpods Headphones') 47\n",
      "('Google Phone', 'USB-C Charging Cable', 'Bose SoundSport Headphones') 35\n",
      "('Vareebadd Phone', 'USB-C Charging Cable', 'Wired Headphones') 33\n",
      "('iPhone', 'Apple Airpods Headphones', 'Wired Headphones') 27\n",
      "('Google Phone', 'Bose SoundSport Headphones', 'Wired Headphones') 24\n",
      "('Vareebadd Phone', 'USB-C Charging Cable', 'Bose SoundSport Headphones') 16\n",
      "('USB-C Charging Cable', 'Bose SoundSport Headphones', 'Wired Headphones') 5\n",
      "('Vareebadd Phone', 'Bose SoundSport Headphones', 'Wired Headphones') 5\n"
     ]
    }
   ],
   "source": [
    "from itertools import combinations\n",
    "from collections import Counter\n",
    "count = Counter()\n",
    "\n",
    "for row in df['Grouped']:\n",
    "    row_list = row.split(',')\n",
    "    count.update(Counter(combinations(row_list, 3)))\n",
    "\n",
    "for key, value in count.most_common(10):\n",
    "    print(key, value)"
   ]
  },
  {
   "cell_type": "markdown",
   "id": "070aa3c1",
   "metadata": {},
   "source": [
    "### What Products Sold the most ?"
   ]
  },
  {
   "cell_type": "code",
   "execution_count": 68,
   "id": "e9fa3761",
   "metadata": {},
   "outputs": [
    {
     "data": {
      "image/png": "[encoded data removed]",
      "text/plain": [
       "<Figure size 640x480 with 1 Axes>"
      ]
     },
     "metadata": {},
     "output_type": "display_data"
    }
   ],
   "source": [
    "product_group = Sales_data.groupby('Product')\n",
    "quantity_ordered = product_group.sum()['Quantity Ordered']\n",
    "\n",
    "products = [product for product, df in product_group]\n",
    "plt.bar(products, quantity_ordered)\n",
    "plt.ylabel(\"Quantity Ordered\")\n",
    "plt.xticks(products, rotation='vertical', size=8)\n",
    "plt.show()"
   ]
  },
  {
   "cell_type": "markdown",
   "id": "e3b1c81e",
   "metadata": {},
   "source": [
    "AAA Batteries (4-pack) is the most ordered product or the top selling product"
   ]
  },
  {
   "cell_type": "markdown",
   "id": "c2440c7e",
   "metadata": {},
   "source": [
    "### What are the top 5 Best selling products?"
   ]
  },
  {
   "cell_type": "code",
   "execution_count": 72,
   "id": "b7c9e90f",
   "metadata": {},
   "outputs": [
    {
     "data": {
      "text/plain": [
       "Product\n",
       "AAA Batteries (4-pack)      30955\n",
       "AA Batteries (4-pack)       27595\n",
       "USB-C Charging Cable        23887\n",
       "Lightning Charging Cable    23121\n",
       "Wired Headphones            20491\n",
       "Name: Quantity Ordered, dtype: int64"
      ]
     },
     "execution_count": 72,
     "metadata": {},
     "output_type": "execute_result"
    }
   ],
   "source": [
    "Sales_data.groupby(['Product'])['Quantity Ordered'].sum().nlargest(5)"
   ]
  },
  {
   "cell_type": "markdown",
   "id": "429eacc0",
   "metadata": {},
   "source": [
    "### Which Product generates the highest revenue?"
   ]
  },
  {
   "cell_type": "code",
   "execution_count": 69,
   "id": "bddc92fd",
   "metadata": {},
   "outputs": [
    {
     "data": {
      "text/plain": [
       "Product\n",
       "20in Monitor                   453488.77\n",
       "27in 4K Gaming Monitor        2431197.66\n",
       "27in FHD Monitor              1129724.68\n",
       "34in Ultrawide Monitor        2350238.15\n",
       "AA Batteries (4-pack)          105964.80\n",
       "AAA Batteries (4-pack)          92555.45\n",
       "Apple Airpods Headphones      2341950.00\n",
       "Bose SoundSport Headphones    1340165.97\n",
       "Flatscreen TV                 1442100.00\n",
       "Google Phone                  3315600.00\n",
       "LG Dryer                       387600.00\n",
       "LG Washing Machine             399600.00\n",
       "Lightning Charging Cable       345658.95\n",
       "Macbook Pro Laptop            8027400.00\n",
       "ThinkPad Laptop               4125958.74\n",
       "USB-C Charging Cable           285449.65\n",
       "Vareebadd Phone                827200.00\n",
       "Wired Headphones               245687.09\n",
       "iPhone                        4791500.00\n",
       "Name: Sales, dtype: float64"
      ]
     },
     "execution_count": 69,
     "metadata": {},
     "output_type": "execute_result"
    }
   ],
   "source": [
    "# Product Wise Revenue\n",
    "highestRevenueProduct = Sales_data.groupby(['Product'], sort=True)['Sales'].sum()\n",
    "highestRevenueProduct"
   ]
  },
  {
   "cell_type": "markdown",
   "id": "dfb4a07c",
   "metadata": {},
   "source": [
    "Macbook Pro Laptop is the product which generates the highest revenue of $8,027,400.00"
   ]
  },
  {
   "cell_type": "code",
   "execution_count": 70,
   "id": "1e800f20",
   "metadata": {},
   "outputs": [
    {
     "data": {
      "text/plain": [
       "Text(0.5, 0, 'Product')"
      ]
     },
     "execution_count": 70,
     "metadata": {},
     "output_type": "execute_result"
    },
    {
     "data": {
      "image/png": "[encoded data removed]",
      "text/plain": [
       "<Figure size 640x480 with 1 Axes>"
      ]
     },
     "metadata": {},
     "output_type": "display_data"
    }
   ],
   "source": [
    "products = [products for products, df in Sales_data.groupby('Product')]\n",
    "plt.bar(products, highestRevenueProduct)\n",
    "plt.xticks(products, rotation=\"vertical\", size=8)\n",
    "plt.ylabel(\"Sales\")\n",
    "plt.xlabel(\"Product\")"
   ]
  },
  {
   "cell_type": "markdown",
   "id": "3adcd10d",
   "metadata": {},
   "source": [
    "### What are the Top5 Products Generating the highest revenue?"
   ]
  },
  {
   "cell_type": "code",
   "execution_count": 76,
   "id": "be98f02f",
   "metadata": {},
   "outputs": [
    {
     "data": {
      "text/plain": [
       "Product\n",
       "Macbook Pro Laptop        8027400.00\n",
       "iPhone                    4791500.00\n",
       "ThinkPad Laptop           4125958.74\n",
       "Google Phone              3315600.00\n",
       "27in 4K Gaming Monitor    2431197.66\n",
       "Name: Sales, dtype: float64"
      ]
     },
     "execution_count": 76,
     "metadata": {},
     "output_type": "execute_result"
    }
   ],
   "source": [
    "highestRevenueProduct = Sales_data.groupby(['Product'], sort=True)['Sales'].sum().nlargest(5)\n",
    "highestRevenueProduct"
   ]
  },
  {
   "cell_type": "code",
   "execution_count": 77,
   "id": "abcae91c",
   "metadata": {},
   "outputs": [
    {
     "data": {
      "text/html": [
       "<div>\n",
       "<style scoped>\n",
       "    .dataframe tbody tr th:only-of-type {\n",
       "        vertical-align: middle;\n",
       "    }\n",
       "\n",
       "    .dataframe tbody tr th {\n",
       "        vertical-align: top;\n",
       "    }\n",
       "\n",
       "    .dataframe thead th {\n",
       "        text-align: right;\n",
       "    }\n",
       "</style>\n",
       "<table border=\"1\" class=\"dataframe\">\n",
       "  <thead>\n",
       "    <tr style=\"text-align: right;\">\n",
       "      <th></th>\n",
       "      <th>Order ID</th>\n",
       "      <th>Product</th>\n",
       "      <th>Quantity Ordered</th>\n",
       "      <th>Price Each</th>\n",
       "      <th>Order Date</th>\n",
       "      <th>Purchase Address</th>\n",
       "      <th>Month</th>\n",
       "      <th>Month Name</th>\n",
       "      <th>Sales</th>\n",
       "      <th>Hour</th>\n",
       "      <th>Minute</th>\n",
       "      <th>city</th>\n",
       "      <th>State</th>\n",
       "    </tr>\n",
       "    <tr>\n",
       "      <th>Month Name</th>\n",
       "      <th></th>\n",
       "      <th></th>\n",
       "      <th></th>\n",
       "      <th></th>\n",
       "      <th></th>\n",
       "      <th></th>\n",
       "      <th></th>\n",
       "      <th></th>\n",
       "      <th></th>\n",
       "      <th></th>\n",
       "      <th></th>\n",
       "      <th></th>\n",
       "      <th></th>\n",
       "    </tr>\n",
       "  </thead>\n",
       "  <tbody>\n",
       "    <tr>\n",
       "      <th>Jan</th>\n",
       "      <td>142987</td>\n",
       "      <td>Lightning Charging Cable</td>\n",
       "      <td>1</td>\n",
       "      <td>14.95</td>\n",
       "      <td>2019-01-12 17:05:00</td>\n",
       "      <td>909 South St, Austin, TX 73301</td>\n",
       "      <td>1</td>\n",
       "      <td>Jan</td>\n",
       "      <td>14.95</td>\n",
       "      <td>17</td>\n",
       "      <td>5</td>\n",
       "      <td>Austin</td>\n",
       "      <td>TX 73301</td>\n",
       "    </tr>\n",
       "    <tr>\n",
       "      <th>Jan</th>\n",
       "      <td>146470</td>\n",
       "      <td>Bose SoundSport Headphones</td>\n",
       "      <td>1</td>\n",
       "      <td>99.99</td>\n",
       "      <td>2019-01-17 11:29:00</td>\n",
       "      <td>442 West St, Atlanta, GA 30301</td>\n",
       "      <td>1</td>\n",
       "      <td>Jan</td>\n",
       "      <td>99.99</td>\n",
       "      <td>11</td>\n",
       "      <td>29</td>\n",
       "      <td>Atlanta</td>\n",
       "      <td>GA 30301</td>\n",
       "    </tr>\n",
       "    <tr>\n",
       "      <th>Jan</th>\n",
       "      <td>146469</td>\n",
       "      <td>AA Batteries (4-pack)</td>\n",
       "      <td>2</td>\n",
       "      <td>3.84</td>\n",
       "      <td>2019-01-02 21:45:00</td>\n",
       "      <td>319 Willow St, Los Angeles, CA 90001</td>\n",
       "      <td>1</td>\n",
       "      <td>Jan</td>\n",
       "      <td>7.68</td>\n",
       "      <td>21</td>\n",
       "      <td>45</td>\n",
       "      <td>Los Angeles</td>\n",
       "      <td>CA 90001</td>\n",
       "    </tr>\n",
       "    <tr>\n",
       "      <th>Jan</th>\n",
       "      <td>146468</td>\n",
       "      <td>Bose SoundSport Headphones</td>\n",
       "      <td>1</td>\n",
       "      <td>99.99</td>\n",
       "      <td>2019-01-23 18:55:00</td>\n",
       "      <td>592 River St, Los Angeles, CA 90001</td>\n",
       "      <td>1</td>\n",
       "      <td>Jan</td>\n",
       "      <td>99.99</td>\n",
       "      <td>18</td>\n",
       "      <td>55</td>\n",
       "      <td>Los Angeles</td>\n",
       "      <td>CA 90001</td>\n",
       "    </tr>\n",
       "    <tr>\n",
       "      <th>Jan</th>\n",
       "      <td>146467</td>\n",
       "      <td>Macbook Pro Laptop</td>\n",
       "      <td>1</td>\n",
       "      <td>1700.00</td>\n",
       "      <td>2019-01-25 14:16:00</td>\n",
       "      <td>950 5th St, Los Angeles, CA 90001</td>\n",
       "      <td>1</td>\n",
       "      <td>Jan</td>\n",
       "      <td>1700.00</td>\n",
       "      <td>14</td>\n",
       "      <td>16</td>\n",
       "      <td>Los Angeles</td>\n",
       "      <td>CA 90001</td>\n",
       "    </tr>\n",
       "  </tbody>\n",
       "</table>\n",
       "</div>"
      ],
      "text/plain": [
       "           Order ID                     Product  Quantity Ordered  Price Each  \\\n",
       "Month Name                                                                      \n",
       "Jan          142987    Lightning Charging Cable                 1       14.95   \n",
       "Jan          146470  Bose SoundSport Headphones                 1       99.99   \n",
       "Jan          146469       AA Batteries (4-pack)                 2        3.84   \n",
       "Jan          146468  Bose SoundSport Headphones                 1       99.99   \n",
       "Jan          146467          Macbook Pro Laptop                 1     1700.00   \n",
       "\n",
       "                     Order Date                      Purchase Address  Month  \\\n",
       "Month Name                                                                     \n",
       "Jan         2019-01-12 17:05:00        909 South St, Austin, TX 73301      1   \n",
       "Jan         2019-01-17 11:29:00        442 West St, Atlanta, GA 30301      1   \n",
       "Jan         2019-01-02 21:45:00  319 Willow St, Los Angeles, CA 90001      1   \n",
       "Jan         2019-01-23 18:55:00   592 River St, Los Angeles, CA 90001      1   \n",
       "Jan         2019-01-25 14:16:00     950 5th St, Los Angeles, CA 90001      1   \n",
       "\n",
       "           Month Name    Sales  Hour  Minute          city      State  \n",
       "Month Name                                                             \n",
       "Jan               Jan    14.95    17       5        Austin   TX 73301  \n",
       "Jan               Jan    99.99    11      29       Atlanta   GA 30301  \n",
       "Jan               Jan     7.68    21      45   Los Angeles   CA 90001  \n",
       "Jan               Jan    99.99    18      55   Los Angeles   CA 90001  \n",
       "Jan               Jan  1700.00    14      16   Los Angeles   CA 90001  "
      ]
     },
     "execution_count": 77,
     "metadata": {},
     "output_type": "execute_result"
    }
   ],
   "source": [
    "Sales_data.sort_index().head()"
   ]
  },
  {
   "cell_type": "code",
   "execution_count": 78,
   "id": "febad5ee",
   "metadata": {},
   "outputs": [],
   "source": [
    "# Saving the data in the CSV format for report building\n",
    "Sales_data.to_csv(\"C:/Users/acer/Desktop/Data_Analytics/PowerBI_Projects/Sales_Dashboard/Cleaned_data.csv\")"
   ]
  },
  {
   "cell_type": "code",
   "execution_count": null,
   "id": "3b5b654d",
   "metadata": {},
   "outputs": [],
   "source": []
  }
 ],
 "metadata": {
  "kernelspec": {
   "display_name": "Python 3 (ipykernel)",
   "language": "python",
   "name": "python3"
  },
  "language_info": {
   "codemirror_mode": {
    "name": "ipython",
    "version": 3
   },
   "file_extension": ".py",
   "mimetype": "text/x-python",
   "name": "python",
   "nbconvert_exporter": "python",
   "pygments_lexer": "ipython3",
   "version": "3.11.5"
  }
 },
 "nbformat": 4,
 "nbformat_minor": 5
}
